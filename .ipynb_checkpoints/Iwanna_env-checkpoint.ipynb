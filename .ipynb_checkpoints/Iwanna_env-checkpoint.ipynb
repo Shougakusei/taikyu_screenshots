{
 "cells": [
  {
   "cell_type": "code",
   "execution_count": 16,
   "id": "98a06157",
   "metadata": {},
   "outputs": [
    {
     "data": {
      "text/plain": [
       "[[], [], []]"
      ]
     },
     "execution_count": 16,
     "metadata": {},
     "output_type": "execute_result"
    }
   ],
   "source": [
    "[[], [], []]"
   ]
  },
  {
   "cell_type": "code",
   "execution_count": 17,
   "id": "d2675592",
   "metadata": {},
   "outputs": [],
   "source": [
    "l = _"
   ]
  },
  {
   "cell_type": "code",
   "execution_count": 18,
   "id": "2c824160",
   "metadata": {},
   "outputs": [
    {
     "data": {
      "text/plain": [
       "[]"
      ]
     },
     "execution_count": 18,
     "metadata": {},
     "output_type": "execute_result"
    }
   ],
   "source": [
    "l[1]"
   ]
  },
  {
   "cell_type": "code",
   "execution_count": 19,
   "id": "b84258f2",
   "metadata": {},
   "outputs": [],
   "source": [
    "l[1].append('owo')"
   ]
  },
  {
   "cell_type": "code",
   "execution_count": 20,
   "id": "43e64e57",
   "metadata": {},
   "outputs": [
    {
     "data": {
      "text/plain": [
       "[[], ['owo'], []]"
      ]
     },
     "execution_count": 20,
     "metadata": {},
     "output_type": "execute_result"
    }
   ],
   "source": [
    "l"
   ]
  },
  {
   "cell_type": "code",
   "execution_count": 40,
   "id": "16757bdd",
   "metadata": {},
   "outputs": [],
   "source": [
    "import gym\n",
    "from gym import spaces\n",
    "import numpy as np\n",
    "import torch\n",
    "from torch import nn\n",
    "from win32com.client import Dispatch\n",
    "import subprocess\n",
    "import os\n",
    "import signal"
   ]
  },
  {
   "cell_type": "code",
   "execution_count": 111,
   "id": "ea7056d2",
   "metadata": {},
   "outputs": [],
   "source": [
    "import os\n",
    "import time\n",
    "\n",
    "\n",
    "def wait_path_exists(path, sleep_time=0.25, peridos_to_wait=40):\n",
    "    time_counter = 0\n",
    "    while (not os.path.exists(path)) or os.path.exists(f'C:/Users/user/Taikyu_project/stuff/Super Fish/Realtime/gamemaker_flg.txt'):\n",
    "        time.sleep(sleep_time)\n",
    "        time_counter += 1\n",
    "        if time_counter > peridos_to_wait:\n",
    "            break\n"
   ]
  },
  {
   "cell_type": "code",
   "execution_count": 21,
   "id": "0a2c2063",
   "metadata": {},
   "outputs": [],
   "source": [
    "import os\n",
    "import yaml\n",
    "from attrdict import AttrDict\n",
    "\n",
    "def find_file(file_name):\n",
    "    cur_dir = os.getcwd()\n",
    "\n",
    "    for root, dirs, files in os.walk(cur_dir):\n",
    "        if file_name in files:\n",
    "            return os.path.join(root, file_name)\n",
    "\n",
    "    raise FileNotFoundError(f\"File '{file}' not found in subdirectories of {cur_dir}\")\n",
    "\n",
    "def load_config(config_path):\n",
    "    if not config_path.endswith(\".yml\"):\n",
    "        config_path += \".yml\"\n",
    "    config_path = find_file(config_path)\n",
    "    with open(config_path) as f:\n",
    "        config = yaml.load(f, Loader=yaml.FullLoader)\n",
    "    return AttrDict(config)\n",
    "\n",
    "\n",
    "\n",
    "config_file='config.yml'\n",
    "\n",
    "config = load_config(config_file)"
   ]
  },
  {
   "cell_type": "code",
   "execution_count": 44,
   "id": "51c00672",
   "metadata": {},
   "outputs": [],
   "source": [
    "def start_iwanna(folder, exe):\n",
    "    os.chdir(folder)\n",
    "    return subprocess.Popen([exe])"
   ]
  },
  {
   "cell_type": "code",
   "execution_count": 45,
   "id": "a4f1cb8d",
   "metadata": {},
   "outputs": [],
   "source": [
    "def close_iwanna(process):\n",
    "    os.kill(process.pid, signal.SIGTERM)"
   ]
  },
  {
   "cell_type": "code",
   "execution_count": 96,
   "id": "873bf556",
   "metadata": {},
   "outputs": [],
   "source": [
    "def actions_to_controls(walk_length, jump_height):\n",
    "    \n",
    "    controls_array = np.zeros([6,4], dtype=np.int8)\n",
    "    \n",
    "    jump_true = 0\n",
    "    \n",
    "    for i in range(6):\n",
    "        \n",
    "        if walk_length > 0:\n",
    "            \n",
    "            controls_left = 0\n",
    "            controls_right = 1\n",
    "                \n",
    "            walk_length -= 1\n",
    "        \n",
    "        elif walk_length < 0:\n",
    "            \n",
    "            controls_left = 1\n",
    "            controls_right = 0\n",
    "            \n",
    "            walk_length += 1\n",
    "        \n",
    "        else:\n",
    "            \n",
    "            controls_left = 0\n",
    "            controls_right = 0\n",
    "            \n",
    "        if jump_height > 0 and jump_true == 0:\n",
    "            \n",
    "            controls_jump = 1\n",
    "            \n",
    "            jump_true = 1\n",
    "            jump_height -= 1\n",
    "        \n",
    "        else:\n",
    "            \n",
    "            controls_jump = 0\n",
    "            \n",
    "            jump_height -= 1\n",
    "            \n",
    "        if jump_height <= 0 and jump_true == 1:\n",
    "            \n",
    "            controls_jump_release = 1\n",
    "            \n",
    "            jump_true = 0\n",
    "        \n",
    "        else:\n",
    "            \n",
    "            controls_jump_release = 0\n",
    "            \n",
    "        controls_array[i] = [controls_left,controls_right,controls_jump,controls_jump_release]\n",
    "    \n",
    "    return controls_array"
   ]
  },
  {
   "cell_type": "code",
   "execution_count": 100,
   "id": "6de3b480",
   "metadata": {},
   "outputs": [],
   "source": [
    "def write_controls_txt(controls, file_path, rewrite=True):\n",
    "    \n",
    "    if rewrite:\n",
    "        open(file_path, 'w').close()\n",
    "    \n",
    "    for control in controls:\n",
    "        with open(file_path, 'a') as f:\n",
    "            f.write(''.join(str(x) for x in control) + '\\n')"
   ]
  },
  {
   "cell_type": "code",
   "execution_count": 109,
   "id": "0ed49858",
   "metadata": {},
   "outputs": [],
   "source": [
    "def read_start_conditions(file_path):\n",
    "    with open(r'D:\\fangames\\I wanna be the Palladium ver1.0\\Sadistic_Music_Factory\\Realtime\\start_conditions.txt') as file:\n",
    "        lines = [line.rstrip() for line in file]\n",
    "    seed = int(lines[0])\n",
    "    timeline_start = int(lines[1])\n",
    "    player_x_start = float(lines[2])\n",
    "    player_y_start = float(lines[3])\n",
    "    return seed, timeline_start, player_x_start, player_y_start"
   ]
  },
  {
   "cell_type": "code",
   "execution_count": 110,
   "id": "e74ba62c",
   "metadata": {},
   "outputs": [
    {
     "data": {
      "text/plain": [
       "(3186, 0, 403.0, 567.4)"
      ]
     },
     "execution_count": 110,
     "metadata": {},
     "output_type": "execute_result"
    }
   ],
   "source": [
    "read_start_conditions(r'D:\\fangames\\I wanna be the Palladium ver1.0\\Sadistic_Music_Factory\\Realtime\\start_conditions.txt')"
   ]
  },
  {
   "cell_type": "code",
   "execution_count": 101,
   "id": "ee2f43c4",
   "metadata": {},
   "outputs": [],
   "source": [
    "write_controls_txt(controls, r'D:\\fangames\\I wanna be the Palladium ver1.0\\Sadistic_Music_Factory\\Realtime\\controls\\controls_test_test.txt')"
   ]
  },
  {
   "cell_type": "code",
   "execution_count": 103,
   "id": "e533ffa4",
   "metadata": {},
   "outputs": [],
   "source": [
    "from taikyu_screenshots import dataset"
   ]
  },
  {
   "cell_type": "code",
   "execution_count": 50,
   "id": "8717a638",
   "metadata": {},
   "outputs": [],
   "source": [
    "class IwannaEnv(gym.Env):\n",
    "    \n",
    "    def __init__(self, root_folder, exe_folder, exe):\n",
    "        \n",
    "        super(IwannaEnv, self).__init__()\n",
    "        \n",
    "        self.observation_space = spaces.Box(low=0, high=1,\n",
    "                                            shape=(1, config.environment.image_size, config.environment.image_size), dtype=np.float32)\n",
    "        \n",
    "        self.action_space = spaces.Box(low=np.array([-6, 6]), high=np.array([0, 6]), dtype=np.float32)\n",
    "        \n",
    "        self.exe_folder = exe_folder\n",
    "        self.exe = exe\n",
    "        self.root_folder = root_folder\n",
    "        self.screenshot_folder = root_folder + r'Realtime\\screenshots'\n",
    "        self.controls = root_folder + r'Realtime\\controls'\n",
    "        \n",
    "        self.process = start_iwanna(exe_folder, exe)\n",
    "        \n",
    "        self.seed, self.timeline_start, self.player_x_start, self.player_y_start = read_start_conditions(root_folder + r'Realtime\\start_conditions.txt')\n",
    "        \n",
    "        self.timeline_start_str = (4 - len(str(self.timeline_start))) * '0' + str(self.timeline_start)\n",
    "\n",
    "        self.timestep = 6\n",
    "        \n",
    "        wait_path_exists(self.screenshot_folder + f'/{self.timeline_start_str}_{self.seed}')\n",
    "        \n",
    "    \n",
    "    def reset(self):\n",
    "        \n",
    "        close_iwanna(self.process)\n",
    "        \n",
    "        super().reset(seed=seed)\n",
    "        \n",
    "        self.process = start_iwanna(exe_folder, exe)\n",
    "        \n",
    "        self.timestep = 6\n",
    "        \n",
    "        image_path = dataroot + f'Realtime/screenshots/screenshots{self.timeline_start_str}_{self.seed}/{self.timestep}.png'\n",
    "        \n",
    "        img_obs, _, _, _ = load_image_obs(image_path)\n",
    "        \n",
    "        return img_obs\n",
    "    \n",
    "    def step(self, action):\n",
    "        \n",
    "        pass\n",
    "    \n",
    "    def render(self, mode='human'):\n",
    "        \n",
    "        pass\n",
    "    \n",
    "    def close(self):\n",
    "        \n",
    "        close_iwanna(self.process)\n",
    "    \n",
    "    def seed(self, seed):\n",
    "        \n",
    "        pass\n",
    " "
   ]
  },
  {
   "cell_type": "code",
   "execution_count": null,
   "id": "243f05e2",
   "metadata": {},
   "outputs": [],
   "source": [
    "   \n",
    "class IwannaEnv(gym.Env):\n",
    "    r\"\"\"The main OpenAI Gym class.\n",
    "    It encapsulates an environment with arbitrary behind-the-scenes dynamics.\n",
    "    An environment can be partially or fully observed.\n",
    "    The main API methods that users of this class need to know are:\n",
    "    - :meth:`step` - Takes a step in the environment using an action returning the next observation, reward,\n",
    "      if the environment terminated and observation information.\n",
    "    - :meth:`reset` - Resets the environment to an initial state, returning the initial observation and observation information.\n",
    "    - :meth:`render` - Renders the environment observation with modes depending on the output\n",
    "    - :meth:`close` - Closes the environment, important for rendering where pygame is imported\n",
    "    And set the following attributes:\n",
    "    - :attr:`action_space` - The Space object corresponding to valid actions\n",
    "    - :attr:`observation_space` - The Space object corresponding to valid observations\n",
    "    - :attr:`reward_range` - A tuple corresponding to the minimum and maximum possible rewards\n",
    "    - :attr:`spec` - An environment spec that contains the information used to initialise the environment from `gym.make`\n",
    "    - :attr:`metadata` - The metadata of the environment, i.e. render modes\n",
    "    - :attr:`np_random` - The random number generator for the environment\n",
    "    Note: a default reward range set to :math:`(-\\infty,+\\infty)` already exists. Set it if you want a narrower range.\n",
    "    \"\"\"\n",
    "\n",
    "    # Set this in SOME subclasses\n",
    "    metadata: Dict[str, Any] = {\"render_modes\": []}\n",
    "    # define render_mode if your environment supports rendering\n",
    "    render_mode: Optional[str] = None\n",
    "    reward_range = (-float(\"inf\"), float(\"inf\"))\n",
    "    spec: \"EnvSpec\" = None\n",
    "\n",
    "    # Set these in ALL subclasses\n",
    "    action_space: spaces.Space[ActType]\n",
    "    observation_space: spaces.Space[ObsType]\n",
    "\n",
    "    # Created\n",
    "    _np_random: Optional[np.random.Generator] = None\n",
    "\n",
    "    @property\n",
    "    def np_random(self) -> np.random.Generator:\n",
    "        \"\"\"Returns the environment's internal :attr:`_np_random` that if not set will initialise with a random seed.\"\"\"\n",
    "        if self._np_random is None:\n",
    "            self._np_random, seed = seeding.np_random()\n",
    "        return self._np_random\n",
    "\n",
    "    @np_random.setter\n",
    "    def np_random(self, value: np.random.Generator):\n",
    "        self._np_random = value\n",
    "\n",
    "    def step(self, action: ActType) -> Tuple[ObsType, float, bool, bool, dict]:\n",
    "        \"\"\"Run one timestep of the environment's dynamics.\n",
    "        When end of episode is reached, you are responsible for calling :meth:`reset` to reset this environment's state.\n",
    "        Accepts an action and returns either a tuple `(observation, reward, terminated, truncated, info)`.\n",
    "        Args:\n",
    "            action (ActType): an action provided by the agent\n",
    "        Returns:\n",
    "            observation (object): this will be an element of the environment's :attr:`observation_space`.\n",
    "                This may, for instance, be a numpy array containing the positions and velocities of certain objects.\n",
    "            reward (float): The amount of reward returned as a result of taking the action.\n",
    "            terminated (bool): whether a `terminal state` (as defined under the MDP of the task) is reached.\n",
    "                In this case further step() calls could return undefined results.\n",
    "            truncated (bool): whether a truncation condition outside the scope of the MDP is satisfied.\n",
    "                Typically a timelimit, but could also be used to indicate agent physically going out of bounds.\n",
    "                Can be used to end the episode prematurely before a `terminal state` is reached.\n",
    "            info (dictionary): `info` contains auxiliary diagnostic information (helpful for debugging, learning, and logging).\n",
    "                This might, for instance, contain: metrics that describe the agent's performance state, variables that are\n",
    "                hidden from observations, or individual reward terms that are combined to produce the total reward.\n",
    "                It also can contain information that distinguishes truncation and termination, however this is deprecated in favour\n",
    "                of returning two booleans, and will be removed in a future version.\n",
    "            (deprecated)\n",
    "            done (bool): A boolean value for if the episode has ended, in which case further :meth:`step` calls will return undefined results.\n",
    "                A done signal may be emitted for different reasons: Maybe the task underlying the environment was solved successfully,\n",
    "                a certain timelimit was exceeded, or the physics simulation has entered an invalid state.\n",
    "        \"\"\"\n",
    "        raise NotImplementedError\n",
    "\n",
    "    def reset(\n",
    "        self,\n",
    "        *,\n",
    "        seed: Optional[int] = None,\n",
    "        options: Optional[dict] = None,\n",
    "    ) -> Tuple[ObsType, dict]:\n",
    "        \"\"\"Resets the environment to an initial state and returns the initial observation.\n",
    "        This method can reset the environment's random number generator(s) if ``seed`` is an integer or\n",
    "        if the environment has not yet initialized a random number generator.\n",
    "        If the environment already has a random number generator and :meth:`reset` is called with ``seed=None``,\n",
    "        the RNG should not be reset. Moreover, :meth:`reset` should (in the typical use case) be called with an\n",
    "        integer seed right after initialization and then never again.\n",
    "        Args:\n",
    "            seed (optional int): The seed that is used to initialize the environment's PRNG.\n",
    "                If the environment does not already have a PRNG and ``seed=None`` (the default option) is passed,\n",
    "                a seed will be chosen from some source of entropy (e.g. timestamp or /dev/urandom).\n",
    "                However, if the environment already has a PRNG and ``seed=None`` is passed, the PRNG will *not* be reset.\n",
    "                If you pass an integer, the PRNG will be reset even if it already exists.\n",
    "                Usually, you want to pass an integer *right after the environment has been initialized and then never again*.\n",
    "                Please refer to the minimal example above to see this paradigm in action.\n",
    "            options (optional dict): Additional information to specify how the environment is reset (optional,\n",
    "                depending on the specific environment)\n",
    "        Returns:\n",
    "            observation (object): Observation of the initial state. This will be an element of :attr:`observation_space`\n",
    "                (typically a numpy array) and is analogous to the observation returned by :meth:`step`.\n",
    "            info (dictionary):  This dictionary contains auxiliary information complementing ``observation``. It should be analogous to\n",
    "                the ``info`` returned by :meth:`step`.\n",
    "        \"\"\"\n",
    "        # Initialize the RNG if the seed is manually passed\n",
    "        if seed is not None:\n",
    "            self._np_random, seed = seeding.np_random(seed)\n",
    "\n",
    "    def render(self) -> Optional[Union[RenderFrame, List[RenderFrame]]]:\n",
    "        \"\"\"Compute the render frames as specified by render_mode attribute during initialization of the environment.\n",
    "        The set of supported modes varies per environment. (And some\n",
    "        third-party environments may not support rendering at all.)\n",
    "        By convention, if render_mode is:\n",
    "        - None (default): no render is computed.\n",
    "        - human: render return None.\n",
    "          The environment is continuously rendered in the current display or terminal. Usually for human consumption.\n",
    "        - rgb_array: return a single frame representing the current state of the environment.\n",
    "          A frame is a numpy.ndarray with shape (x, y, 3) representing RGB values for an x-by-y pixel image.\n",
    "        - rgb_array_list: return a list of frames representing the states of the environment since the last reset.\n",
    "          Each frame is a numpy.ndarray with shape (x, y, 3), as with `rgb_array`.\n",
    "        - ansi: Return a strings (str) or StringIO.StringIO containing a\n",
    "          terminal-style text representation for each time step.\n",
    "          The text can include newlines and ANSI escape sequences (e.g. for colors).\n",
    "        Note:\n",
    "            Make sure that your class's metadata 'render_modes' key includes\n",
    "            the list of supported modes. It's recommended to call super()\n",
    "            in implementations to use the functionality of this method.\n",
    "        \"\"\"\n",
    "        raise NotImplementedError\n",
    "\n",
    "    def close(self):\n",
    "        \"\"\"Override close in your subclass to perform any necessary cleanup.\n",
    "        Environments will automatically :meth:`close()` themselves when\n",
    "        garbage collected or when the program exits.\n",
    "        \"\"\"\n",
    "        pass"
   ]
  }
 ],
 "metadata": {
  "kernelspec": {
   "display_name": "Python 3 (ipykernel)",
   "language": "python",
   "name": "python3"
  },
  "language_info": {
   "codemirror_mode": {
    "name": "ipython",
    "version": 3
   },
   "file_extension": ".py",
   "mimetype": "text/x-python",
   "name": "python",
   "nbconvert_exporter": "python",
   "pygments_lexer": "ipython3",
   "version": "3.9.12"
  }
 },
 "nbformat": 4,
 "nbformat_minor": 5
}
