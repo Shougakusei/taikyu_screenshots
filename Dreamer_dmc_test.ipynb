{
 "cells": [
  {
   "cell_type": "code",
   "execution_count": 9,
   "id": "b9573f58",
   "metadata": {},
   "outputs": [
    {
     "name": "stdout",
     "output_type": "stream",
     "text": [
      "Collecting dm-control\n",
      "  Downloading dm_control-1.0.12-py3-none-any.whl (39.3 MB)\n",
      "Requirement already satisfied: pyparsing>=3.0.0 in c:\\users\\user\\anaconda3\\lib\\site-packages (from dm-control) (3.0.4)\n",
      "Requirement already satisfied: numpy>=1.9.0 in c:\\users\\user\\anaconda3\\lib\\site-packages (from dm-control) (1.21.6)\n",
      "Requirement already satisfied: scipy in c:\\users\\user\\anaconda3\\lib\\site-packages (from dm-control) (1.7.3)\n",
      "Collecting glfw\n",
      "  Downloading glfw-2.5.9-py2.py27.py3.py30.py31.py32.py33.py34.py35.py36.py37.py38-none-win_amd64.whl (493 kB)\n",
      "Requirement already satisfied: absl-py>=0.7.0 in c:\\users\\user\\anaconda3\\lib\\site-packages (from dm-control) (1.2.0)\n",
      "Collecting protobuf>=3.19.4\n",
      "  Downloading protobuf-4.22.3-cp39-cp39-win_amd64.whl (420 kB)\n",
      "Collecting dm-tree!=0.1.2\n",
      "  Downloading dm_tree-0.1.8-cp39-cp39-win_amd64.whl (101 kB)\n",
      "Collecting pyopengl>=3.1.4\n",
      "  Downloading PyOpenGL-3.1.6-py3-none-any.whl (2.4 MB)\n",
      "Collecting mujoco>=2.3.4\n",
      "  Downloading mujoco-2.3.4-cp39-cp39-win_amd64.whl (3.2 MB)\n",
      "Requirement already satisfied: lxml in c:\\users\\user\\anaconda3\\lib\\site-packages (from dm-control) (4.8.0)\n",
      "Requirement already satisfied: tqdm in c:\\users\\user\\anaconda3\\lib\\site-packages (from dm-control) (4.64.0)\n",
      "Collecting labmaze\n",
      "  Downloading labmaze-1.0.6-cp39-cp39-win_amd64.whl (4.8 MB)\n",
      "Requirement already satisfied: requests in c:\\users\\user\\anaconda3\\lib\\site-packages (from dm-control) (2.27.1)\n",
      "Collecting dm-env\n",
      "  Downloading dm_env-1.6-py3-none-any.whl (26 kB)\n",
      "Requirement already satisfied: setuptools!=50.0.0 in c:\\users\\user\\anaconda3\\lib\\site-packages (from dm-control) (61.2.0)\n",
      "Requirement already satisfied: certifi>=2017.4.17 in c:\\users\\user\\anaconda3\\lib\\site-packages (from requests->dm-control) (2021.10.8)\n",
      "Requirement already satisfied: idna<4,>=2.5 in c:\\users\\user\\anaconda3\\lib\\site-packages (from requests->dm-control) (3.3)\n",
      "Requirement already satisfied: charset-normalizer~=2.0.0 in c:\\users\\user\\anaconda3\\lib\\site-packages (from requests->dm-control) (2.0.4)\n",
      "Requirement already satisfied: urllib3<1.27,>=1.21.1 in c:\\users\\user\\anaconda3\\lib\\site-packages (from requests->dm-control) (1.26.9)\n",
      "Requirement already satisfied: colorama in c:\\users\\user\\anaconda3\\lib\\site-packages (from tqdm->dm-control) (0.4.4)\n",
      "Installing collected packages: pyopengl, glfw, dm-tree, protobuf, mujoco, labmaze, dm-env, dm-control\n",
      "  Attempting uninstall: protobuf\n",
      "    Found existing installation: protobuf 3.19.1\n",
      "    Uninstalling protobuf-3.19.1:\n",
      "      Successfully uninstalled protobuf-3.19.1\n",
      "Successfully installed dm-control-1.0.12 dm-env-1.6 dm-tree-0.1.8 glfw-2.5.9 labmaze-1.0.6 mujoco-2.3.4 protobuf-4.22.3 pyopengl-3.1.6\n"
     ]
    },
    {
     "name": "stderr",
     "output_type": "stream",
     "text": [
      "ERROR: pip's dependency resolver does not currently take into account all the packages that are installed. This behaviour is the source of the following dependency conflicts.\n",
      "tensorboard 2.10.1 requires protobuf<3.20,>=3.9.2, but you have protobuf 4.22.3 which is incompatible.\n"
     ]
    }
   ],
   "source": [
    "!pip install dm-control"
   ]
  },
  {
   "cell_type": "code",
   "execution_count": 4,
   "id": "15b5e787",
   "metadata": {},
   "outputs": [],
   "source": [
    "from dreamer_dmc import Dreamer"
   ]
  },
  {
   "cell_type": "code",
   "execution_count": 5,
   "id": "32dc18e0",
   "metadata": {},
   "outputs": [
    {
     "ename": "ModuleNotFoundError",
     "evalue": "No module named 'dm_control'",
     "output_type": "error",
     "traceback": [
      "\u001b[1;31m---------------------------------------------------------------------------\u001b[0m",
      "\u001b[1;31mModuleNotFoundError\u001b[0m                       Traceback (most recent call last)",
      "Input \u001b[1;32mIn [5]\u001b[0m, in \u001b[0;36m<cell line: 1>\u001b[1;34m()\u001b[0m\n\u001b[1;32m----> 1\u001b[0m \u001b[38;5;28;01mfrom\u001b[39;00m \u001b[38;5;21;01mdmc_env\u001b[39;00m \u001b[38;5;28;01mimport\u001b[39;00m make_dmc_env\n",
      "File \u001b[1;32m~\\taikyu_screenshots\\dmc_env.py:3\u001b[0m, in \u001b[0;36m<module>\u001b[1;34m\u001b[0m\n\u001b[0;32m      1\u001b[0m \u001b[38;5;28;01mimport\u001b[39;00m \u001b[38;5;21;01mgym\u001b[39;00m\n\u001b[0;32m      2\u001b[0m \u001b[38;5;28;01mfrom\u001b[39;00m \u001b[38;5;21;01mgym\u001b[39;00m \u001b[38;5;28;01mimport\u001b[39;00m core, spaces\n\u001b[1;32m----> 3\u001b[0m \u001b[38;5;28;01mfrom\u001b[39;00m \u001b[38;5;21;01mdm_control\u001b[39;00m \u001b[38;5;28;01mimport\u001b[39;00m suite\n\u001b[0;32m      4\u001b[0m \u001b[38;5;28;01mfrom\u001b[39;00m \u001b[38;5;21;01mdm_env\u001b[39;00m \u001b[38;5;28;01mimport\u001b[39;00m specs\n\u001b[0;32m      5\u001b[0m \u001b[38;5;28;01mimport\u001b[39;00m \u001b[38;5;21;01mnumpy\u001b[39;00m \u001b[38;5;28;01mas\u001b[39;00m \u001b[38;5;21;01mnp\u001b[39;00m\n",
      "\u001b[1;31mModuleNotFoundError\u001b[0m: No module named 'dm_control'"
     ]
    }
   ],
   "source": [
    "from dmc_env import make_dmc_env"
   ]
  },
  {
   "cell_type": "code",
   "execution_count": 7,
   "id": "d92d0fc2",
   "metadata": {},
   "outputs": [],
   "source": [
    "import os\n",
    "import yaml\n",
    "from attrdict import AttrDict\n",
    "\n",
    "def find_file(file_name):\n",
    "    cur_dir = os.getcwd()\n",
    "\n",
    "    for root, dirs, files in os.walk(cur_dir):\n",
    "        if file_name in files:\n",
    "            return os.path.join(root, file_name)\n",
    "\n",
    "    raise FileNotFoundError(f\"File '{file}' not found in subdirectories of {cur_dir}\")\n",
    "\n",
    "def load_config(config_path):\n",
    "    if not config_path.endswith(\".yml\"):\n",
    "        config_path += \".yml\"\n",
    "    config_path = find_file(config_path)\n",
    "    with open(config_path) as f:\n",
    "        config = yaml.load(f, Loader=yaml.FullLoader)\n",
    "    return AttrDict(config)\n",
    "\n",
    "\n",
    "\n",
    "config_file='config-dmc-cheetah-run.yml'\n",
    "\n",
    "config = load_config(config_file)"
   ]
  },
  {
   "cell_type": "code",
   "execution_count": 8,
   "id": "939c0bf8",
   "metadata": {},
   "outputs": [
    {
     "ename": "NameError",
     "evalue": "name 'make_dmc_env' is not defined",
     "output_type": "error",
     "traceback": [
      "\u001b[1;31m---------------------------------------------------------------------------\u001b[0m",
      "\u001b[1;31mNameError\u001b[0m                                 Traceback (most recent call last)",
      "Input \u001b[1;32mIn [8]\u001b[0m, in \u001b[0;36m<cell line: 1>\u001b[1;34m()\u001b[0m\n\u001b[1;32m----> 1\u001b[0m env \u001b[38;5;241m=\u001b[39m \u001b[43mmake_dmc_env\u001b[49m(\n\u001b[0;32m      2\u001b[0m             domain_name\u001b[38;5;241m=\u001b[39mconfig\u001b[38;5;241m.\u001b[39menvironment\u001b[38;5;241m.\u001b[39mdomain_name,\n\u001b[0;32m      3\u001b[0m             task_name\u001b[38;5;241m=\u001b[39mconfig\u001b[38;5;241m.\u001b[39menvironment\u001b[38;5;241m.\u001b[39mtask_name,\n\u001b[0;32m      4\u001b[0m             seed\u001b[38;5;241m=\u001b[39mconfig\u001b[38;5;241m.\u001b[39menvironment\u001b[38;5;241m.\u001b[39mseed,\n\u001b[0;32m      5\u001b[0m             visualize_reward\u001b[38;5;241m=\u001b[39mconfig\u001b[38;5;241m.\u001b[39menvironment\u001b[38;5;241m.\u001b[39mvisualize_reward,\n\u001b[0;32m      6\u001b[0m             from_pixels\u001b[38;5;241m=\u001b[39mconfig\u001b[38;5;241m.\u001b[39menvironment\u001b[38;5;241m.\u001b[39mfrom_pixels,\n\u001b[0;32m      7\u001b[0m             height\u001b[38;5;241m=\u001b[39mconfig\u001b[38;5;241m.\u001b[39menvironment\u001b[38;5;241m.\u001b[39mheight,\n\u001b[0;32m      8\u001b[0m             width\u001b[38;5;241m=\u001b[39mconfig\u001b[38;5;241m.\u001b[39menvironment\u001b[38;5;241m.\u001b[39mwidth,\n\u001b[0;32m      9\u001b[0m             frame_skip\u001b[38;5;241m=\u001b[39mconfig\u001b[38;5;241m.\u001b[39menvironment\u001b[38;5;241m.\u001b[39mframe_skip,\n\u001b[0;32m     10\u001b[0m         )\n\u001b[0;32m     11\u001b[0m obs_shape, discrete_action_bool, action_size \u001b[38;5;241m=\u001b[39m get_env_infos(env)\n",
      "\u001b[1;31mNameError\u001b[0m: name 'make_dmc_env' is not defined"
     ]
    }
   ],
   "source": [
    "env = make_dmc_env(\n",
    "            domain_name=config.environment.domain_name,\n",
    "            task_name=config.environment.task_name,\n",
    "            seed=config.environment.seed,\n",
    "            visualize_reward=config.environment.visualize_reward,\n",
    "            from_pixels=config.environment.from_pixels,\n",
    "            height=config.environment.height,\n",
    "            width=config.environment.width,\n",
    "            frame_skip=config.environment.frame_skip,\n",
    "        )\n",
    "obs_shape, discrete_action_bool, action_size = get_env_infos(env)"
   ]
  },
  {
   "cell_type": "code",
   "execution_count": null,
   "id": "8e88ac32",
   "metadata": {},
   "outputs": [],
   "source": []
  }
 ],
 "metadata": {
  "kernelspec": {
   "display_name": "Python 3 (ipykernel)",
   "language": "python",
   "name": "python3"
  },
  "language_info": {
   "codemirror_mode": {
    "name": "ipython",
    "version": 3
   },
   "file_extension": ".py",
   "mimetype": "text/x-python",
   "name": "python",
   "nbconvert_exporter": "python",
   "pygments_lexer": "ipython3",
   "version": "3.9.12"
  }
 },
 "nbformat": 4,
 "nbformat_minor": 5
}
