{
 "cells": [
  {
   "cell_type": "code",
   "execution_count": 1,
   "id": "c6d39187-3c64-4073-84ae-9406d18102dc",
   "metadata": {
    "tags": []
   },
   "outputs": [],
   "source": [
    "config_file='config.yml'\n",
    "\n",
    "import importlib\n",
    "\n",
    "# Monkey patch collections\n",
    "import collections\n",
    "import collections.abc\n",
    "for type_name in collections.abc.__all__:\n",
    "    setattr(collections, type_name, getattr(collections.abc, type_name))\n",
    "\n",
    "from dataset import EdgesDataset, get_seed_list\n",
    "from utils import load_config\n",
    "from torch.utils.data import DataLoader\n",
    "import torch\n",
    "import numpy as np\n",
    "\n",
    "from datetime import datetime\n",
    "from torch.utils.tensorboard import SummaryWriter\n",
    "\n",
    "config = load_config(config_file)"
   ]
  },
  {
   "cell_type": "code",
   "execution_count": 2,
   "id": "d48d1698-46ff-475f-b853-ebf7451d96be",
   "metadata": {
    "tags": []
   },
   "outputs": [
    {
     "name": "stderr",
     "output_type": "stream",
     "text": [
      "/usr/local/lib/python3.10/dist-packages/glfw/__init__.py:916: GLFWError: (65544) b'X11: The DISPLAY environment variable is missing'\n",
      "  warnings.warn(message, GLFWError)\n"
     ]
    }
   ],
   "source": [
    "from dmc_env import make_dmc_env\n",
    "env = make_dmc_env(config)"
   ]
  },
  {
   "cell_type": "code",
   "execution_count": 3,
   "id": "c5800916-d0b8-4d5b-8acf-61c0c016ee27",
   "metadata": {
    "tags": []
   },
   "outputs": [
    {
     "data": {
      "text/plain": [
       "Box(0, 255, (3, 64, 64), uint8)"
      ]
     },
     "execution_count": 3,
     "metadata": {},
     "output_type": "execute_result"
    }
   ],
   "source": [
    "env.observation_space"
   ]
  }
 ],
 "metadata": {
  "kernelspec": {
   "display_name": "Python 3 (ipykernel)",
   "language": "python",
   "name": "python3"
  },
  "language_info": {
   "codemirror_mode": {
    "name": "ipython",
    "version": 3
   },
   "file_extension": ".py",
   "mimetype": "text/x-python",
   "name": "python",
   "nbconvert_exporter": "python",
   "pygments_lexer": "ipython3",
   "version": "3.10.6"
  }
 },
 "nbformat": 4,
 "nbformat_minor": 5
}
