{
 "cells": [
  {
   "cell_type": "code",
   "execution_count": null,
   "id": "a25fe3a5",
   "metadata": {},
   "outputs": [],
   "source": [
    "!pip install tb"
   ]
  },
  {
   "cell_type": "code",
   "execution_count": null,
   "id": "95403419",
   "metadata": {
    "scrolled": true
   },
   "outputs": [],
   "source": [
    "!pip install attrdict"
   ]
  },
  {
   "cell_type": "code",
   "execution_count": null,
   "id": "f6925365",
   "metadata": {},
   "outputs": [],
   "source": [
    "!pip install d3rlpy"
   ]
  },
  {
   "cell_type": "code",
   "execution_count": 3,
   "id": "91fa34e0",
   "metadata": {},
   "outputs": [
    {
     "name": "stdout",
     "output_type": "stream",
     "text": [
      "Random Seed:  1141\n"
     ]
    }
   ],
   "source": [
    "import os\n",
    "import re\n",
    "\n",
    "import torch\n",
    "import numpy as np\n",
    "from torchvision.utils import make_grid\n",
    "import matplotlib.pyplot as plt\n",
    "from torch.utils.data import DataLoader\n",
    "from torchvision.datasets import ImageFolder\n",
    "from torchvision import datasets\n",
    "from torchvision import transforms\n",
    "from torch import nn\n",
    "from torch.nn import functional as F\n",
    "import random\n",
    "import torchvision.utils as vutils\n",
    "import argparse\n",
    "import math\n",
    "import cv2\n",
    "from matplotlib import pyplot as plt\n",
    "\n",
    "from torchsummary import summary\n",
    "\n",
    "from abc import abstractmethod\n",
    "\n",
    "# Set random seed for reproducibility\n",
    "seed = 1141\n",
    "# seed = random.randint(1, 10000) # use if you want new results\n",
    "print(\"Random Seed: \", seed)\n",
    "random.seed(seed)\n",
    "torch.manual_seed(seed)\n",
    "device = torch.device(\"cuda:8\" if (torch.cuda.is_available()) else \"cpu\")"
   ]
  },
  {
   "cell_type": "code",
   "execution_count": 31,
   "id": "9a86cab0",
   "metadata": {},
   "outputs": [],
   "source": [
    "train_ds = EdgesDataset(config=config)\n",
    "\n",
    "dataloader = DataLoader(train_ds, config.parameters.dreamer.batch_size, shuffle=False)"
   ]
  },
  {
   "cell_type": "code",
   "execution_count": 41,
   "id": "664a8ffa",
   "metadata": {},
   "outputs": [
    {
     "data": {
      "text/plain": [
       "(tensor([[[0., 1., 0.,  ..., 0., 0., 0.],\n",
       "          [0., 1., 1.,  ..., 0., 0., 0.],\n",
       "          [0., 0., 0.,  ..., 0., 0., 0.],\n",
       "          ...,\n",
       "          [0., 0., 0.,  ..., 0., 0., 0.],\n",
       "          [0., 0., 0.,  ..., 0., 0., 0.],\n",
       "          [0., 0., 0.,  ..., 0., 0., 0.]],\n",
       " \n",
       "         [[1., 0., 1.,  ..., 0., 0., 0.],\n",
       "          [1., 1., 0.,  ..., 0., 0., 0.],\n",
       "          [0., 0., 0.,  ..., 0., 0., 0.],\n",
       "          ...,\n",
       "          [0., 0., 0.,  ..., 0., 0., 0.],\n",
       "          [0., 0., 0.,  ..., 0., 0., 0.],\n",
       "          [0., 0., 0.,  ..., 0., 0., 0.]]]),\n",
       " tensor([[[0., 1., 0.,  ..., 0., 0., 0.],\n",
       "          [0., 1., 0.,  ..., 0., 0., 0.],\n",
       "          [0., 1., 0.,  ..., 0., 0., 0.],\n",
       "          ...,\n",
       "          [0., 0., 1.,  ..., 0., 0., 0.],\n",
       "          [0., 0., 1.,  ..., 0., 0., 0.],\n",
       "          [0., 0., 1.,  ..., 1., 1., 1.]],\n",
       " \n",
       "         [[0., 1., 0.,  ..., 0., 0., 0.],\n",
       "          [0., 1., 0.,  ..., 0., 0., 0.],\n",
       "          [0., 1., 0.,  ..., 0., 0., 0.],\n",
       "          ...,\n",
       "          [0., 0., 1.,  ..., 1., 1., 1.],\n",
       "          [0., 0., 1.,  ..., 1., 0., 0.],\n",
       "          [0., 0., 1.,  ..., 0., 0., 0.]]]),\n",
       " 1008,\n",
       " (126, 501),\n",
       " (0, 6),\n",
       " 0)"
      ]
     },
     "execution_count": 41,
     "metadata": {},
     "output_type": "execute_result"
    }
   ],
   "source": [
    "train_ds[0]"
   ]
  },
  {
   "cell_type": "code",
   "execution_count": 2,
   "id": "4d38e5d1",
   "metadata": {},
   "outputs": [],
   "source": [
    "from encoder import Encoder"
   ]
  },
  {
   "cell_type": "code",
   "execution_count": 3,
   "id": "f48ec327",
   "metadata": {},
   "outputs": [],
   "source": [
    "model = Encoder(config)"
   ]
  },
  {
   "cell_type": "code",
   "execution_count": 6,
   "id": "b32ce472",
   "metadata": {},
   "outputs": [
    {
     "data": {
      "text/plain": [
       "Encoder(\n",
       "  (_convs): Sequential(\n",
       "    (0): Conv2dSame(2, 8, kernel_size=(3, 3), stride=(2, 2))\n",
       "    (1): BatchNorm2d(8, eps=1e-05, momentum=0.1, affine=True, track_running_stats=True)\n",
       "    (2): LeakyReLU(negative_slope=0.01)\n",
       "    (3): Conv2dSame(8, 16, kernel_size=(3, 3), stride=(2, 2))\n",
       "    (4): BatchNorm2d(16, eps=1e-05, momentum=0.1, affine=True, track_running_stats=True)\n",
       "    (5): LeakyReLU(negative_slope=0.01)\n",
       "    (6): Conv2dSame(16, 32, kernel_size=(3, 3), stride=(2, 2))\n",
       "    (7): BatchNorm2d(32, eps=1e-05, momentum=0.1, affine=True, track_running_stats=True)\n",
       "    (8): LeakyReLU(negative_slope=0.01)\n",
       "    (9): Conv2dSame(32, 64, kernel_size=(3, 3), stride=(2, 2))\n",
       "    (10): BatchNorm2d(64, eps=1e-05, momentum=0.1, affine=True, track_running_stats=True)\n",
       "    (11): LeakyReLU(negative_slope=0.01)\n",
       "  )\n",
       ")"
      ]
     },
     "execution_count": 6,
     "metadata": {},
     "output_type": "execute_result"
    }
   ],
   "source": [
    "model.to('cuda')"
   ]
  },
  {
   "cell_type": "code",
   "execution_count": 2,
   "id": "b969aa9b",
   "metadata": {},
   "outputs": [],
   "source": [
    "from decoder import Decoder"
   ]
  },
  {
   "cell_type": "code",
   "execution_count": 3,
   "id": "ccbf30fa",
   "metadata": {},
   "outputs": [],
   "source": [
    "model = Decoder(config)"
   ]
  },
  {
   "cell_type": "code",
   "execution_count": 4,
   "id": "9e6ed3ab",
   "metadata": {},
   "outputs": [
    {
     "data": {
      "text/plain": [
       "Decoder(\n",
       "  (_conv_transes): Sequential(\n",
       "    (0): ConvTranspose2dSame(64, 32, kernel_size=(3, 3), stride=(2, 2))\n",
       "    (1): BatchNorm2d(32, eps=1e-05, momentum=0.1, affine=True, track_running_stats=True)\n",
       "    (2): LeakyReLU(negative_slope=0.01)\n",
       "    (3): ConvTranspose2dSame(32, 16, kernel_size=(3, 3), stride=(2, 2))\n",
       "    (4): BatchNorm2d(16, eps=1e-05, momentum=0.1, affine=True, track_running_stats=True)\n",
       "    (5): LeakyReLU(negative_slope=0.01)\n",
       "    (6): ConvTranspose2dSame(16, 8, kernel_size=(3, 3), stride=(2, 2))\n",
       "    (7): BatchNorm2d(8, eps=1e-05, momentum=0.1, affine=True, track_running_stats=True)\n",
       "    (8): LeakyReLU(negative_slope=0.01)\n",
       "    (9): ConvTranspose2dSame(8, 2, kernel_size=(3, 3), stride=(2, 2))\n",
       "    (10): Sigmoid()\n",
       "  )\n",
       ")"
      ]
     },
     "execution_count": 4,
     "metadata": {},
     "output_type": "execute_result"
    }
   ],
   "source": [
    "model.to('cuda')"
   ]
  },
  {
   "cell_type": "code",
   "execution_count": 1,
   "id": "92a2923a",
   "metadata": {},
   "outputs": [],
   "source": [
    "from vae import EdgeEntropyVAE"
   ]
  },
  {
   "cell_type": "code",
   "execution_count": 3,
   "id": "600e9325",
   "metadata": {},
   "outputs": [],
   "source": [
    "model = EdgeEntropyVAE(config, 0.5)"
   ]
  },
  {
   "cell_type": "code",
   "execution_count": 4,
   "id": "95882bb1",
   "metadata": {},
   "outputs": [
    {
     "data": {
      "text/plain": [
       "EdgeEntropyVAE(\n",
       "  (encoder): Encoder(\n",
       "    (_convs): Sequential(\n",
       "      (0): Conv2dSame(2, 8, kernel_size=(3, 3), stride=(2, 2))\n",
       "      (1): BatchNorm2d(8, eps=1e-05, momentum=0.1, affine=True, track_running_stats=True)\n",
       "      (2): LeakyReLU(negative_slope=0.01)\n",
       "      (3): Conv2dSame(8, 16, kernel_size=(3, 3), stride=(2, 2))\n",
       "      (4): BatchNorm2d(16, eps=1e-05, momentum=0.1, affine=True, track_running_stats=True)\n",
       "      (5): LeakyReLU(negative_slope=0.01)\n",
       "      (6): Conv2dSame(16, 32, kernel_size=(3, 3), stride=(2, 2))\n",
       "      (7): BatchNorm2d(32, eps=1e-05, momentum=0.1, affine=True, track_running_stats=True)\n",
       "      (8): LeakyReLU(negative_slope=0.01)\n",
       "      (9): Conv2dSame(32, 64, kernel_size=(3, 3), stride=(2, 2))\n",
       "      (10): BatchNorm2d(64, eps=1e-05, momentum=0.1, affine=True, track_running_stats=True)\n",
       "      (11): LeakyReLU(negative_slope=0.01)\n",
       "    )\n",
       "  )\n",
       "  (decoder): Decoder(\n",
       "    (_conv_transes): Sequential(\n",
       "      (0): ConvTranspose2dSame(64, 32, kernel_size=(3, 3), stride=(2, 2))\n",
       "      (1): BatchNorm2d(32, eps=1e-05, momentum=0.1, affine=True, track_running_stats=True)\n",
       "      (2): LeakyReLU(negative_slope=0.01)\n",
       "      (3): ConvTranspose2dSame(32, 16, kernel_size=(3, 3), stride=(2, 2))\n",
       "      (4): BatchNorm2d(16, eps=1e-05, momentum=0.1, affine=True, track_running_stats=True)\n",
       "      (5): LeakyReLU(negative_slope=0.01)\n",
       "      (6): ConvTranspose2dSame(16, 8, kernel_size=(3, 3), stride=(2, 2))\n",
       "      (7): BatchNorm2d(8, eps=1e-05, momentum=0.1, affine=True, track_running_stats=True)\n",
       "      (8): LeakyReLU(negative_slope=0.01)\n",
       "      (9): ConvTranspose2dSame(8, 2, kernel_size=(3, 3), stride=(2, 2))\n",
       "      (10): Sigmoid()\n",
       "    )\n",
       "  )\n",
       "  (fc_mu): Linear(in_features=1024, out_features=64, bias=True)\n",
       "  (fc_var): Linear(in_features=1024, out_features=64, bias=True)\n",
       "  (decoder_input): Linear(in_features=64, out_features=1024, bias=True)\n",
       "  (loss): EdgeDetectionEntropyLoss()\n",
       ")"
      ]
     },
     "execution_count": 4,
     "metadata": {},
     "output_type": "execute_result"
    }
   ],
   "source": [
    "model"
   ]
  },
  {
   "cell_type": "code",
   "execution_count": 10,
   "id": "f3fe4464",
   "metadata": {},
   "outputs": [
    {
     "data": {
      "text/plain": [
       "tensor([-0.3455])"
      ]
     },
     "execution_count": 10,
     "metadata": {},
     "output_type": "execute_result"
    }
   ],
   "source": [
    "model.reparameterize(torch.Tensor([0]), torch.Tensor([2]))"
   ]
  },
  {
   "cell_type": "code",
   "execution_count": 15,
   "id": "72c8c6cc",
   "metadata": {},
   "outputs": [
    {
     "data": {
      "text/plain": [
       "torch.Size([2, 1, 2, 2])"
      ]
     },
     "execution_count": 15,
     "metadata": {},
     "output_type": "execute_result"
    }
   ],
   "source": [
    "torch.stack([torch.Tensor([[[0,1],[0,1]]]),torch.Tensor([[[1,1],[1,1]]])]).shape"
   ]
  },
  {
   "cell_type": "code",
   "execution_count": 54,
   "id": "15bb0998",
   "metadata": {},
   "outputs": [],
   "source": [
    "import re\n",
    "import cv2\n",
    "\n",
    "def extract_metadata(fpath):\n",
    "    \n",
    "    with open(fpath, 'r') as file:\n",
    "        info = file.read().rstrip()\n",
    "        \n",
    "    info_splited = info.split('_')\n",
    "    \n",
    "    timestep = int(info_splited[0])\n",
    "    reward = int(info_splited[1])\n",
    "    player_x = int(info_splited[2])\n",
    "    player_y = int(info_splited[3])\n",
    "    \n",
    "    \n",
    "    movements = info_splited[4].split(';')[:-1]\n",
    "    \n",
    "    walk_distance = jump_height = jump_true = 0\n",
    "    \n",
    "    for i in range(len(movements)):\n",
    "        \n",
    "        movement_list = [int(x) for x in list(movements[i])]\n",
    "        \n",
    "        if movement_list[0] == 1:\n",
    "            walk_distance -= 1\n",
    "            \n",
    "        if movement_list[1] == 1:\n",
    "            walk_distance += 1\n",
    "        \n",
    "        if movement_list[2] == 1:\n",
    "            jump_true = 1\n",
    "        \n",
    "        # Если jumpt_true == 0, то не делаем ничего\n",
    "        if (movement_list[3] == 0) and (jump_true == 1):\n",
    "            jump_height += 1\n",
    "        elif (movement_list[3] == 1) and (jump_true == 1):\n",
    "            jump_height += 1\n",
    "            jump_true = 0\n",
    "    \n",
    "    return timestep, reward, player_x, player_y, walk_distance, jump_height\n",
    "\n",
    "def load_img(seed, timestep, config):\n",
    "    \n",
    "    image_path_1 = config.parameters.edges_dataset.data_root + f'/screenshots0000_{seed}/{timestep}.png'\n",
    "    image_path_2 = re.sub(r'/screenshots/', r'/screenshots_add/', image_path_1)\n",
    "\n",
    "    metadata_path = image_path_2[:-3] + 'txt'\n",
    "\n",
    "    timestep, reward, player_x, player_y, walk_distance, jump_height = extract_metadata(metadata_path)\n",
    "\n",
    "    if timestep < 7668:\n",
    "        timestep_next = timestep + 6\n",
    "        terminal = False\n",
    "    else:\n",
    "        terminal = True\n",
    "\n",
    "    # do your magic here\n",
    "    # флаг 0 = читаем черно-белое изображение\n",
    "    img1 = cv2.imread(image_path_1, 0)\n",
    "    img2 = cv2.imread(image_path_2, 0)\n",
    "\n",
    "    img_full1 = transform_img(img1, dim=[self.config.image_size, self.config.image_size], zero_screenshot=self.zero_screenshot, aperture_size=self.config.aperture_size)\n",
    "    img_full2 = transform_img(img2, dim=[self.config.image_size, self.config.image_size], zero_screenshot=self.zero_screenshot, aperture_size=self.config.aperture_size)\n",
    "\n",
    "    img_part1 = transform_img(img1, dim=[self.config.image_size, self.config.image_size], zero_screenshot=self.zero_screenshot_part, part_size=self.config.part_size, player_x=player_x, player_y=player_y, aperture_size=self.config.aperture_size)\n",
    "    img_part2 = transform_img(img2, dim=[self.config.image_size, self.config.image_size], zero_screenshot=self.zero_screenshot_part, part_size=self.config.part_size, player_x=player_x, player_y=player_y, aperture_size=self.config.aperture_size)\n",
    "\n",
    "    sample_full = cv2.merge([img_full1, img_full2])\n",
    "    sample_part = cv2.merge([img_part1, img_part2])\n",
    "    \n",
    "    return transforms.ToTensor()(sample_full), transforms.ToTensor()(sample_part), timestep, (player_x, player_y), (walk_distance, jump_height), reward, terminal"
   ]
  },
  {
   "cell_type": "code",
   "execution_count": 55,
   "id": "d19718ae",
   "metadata": {},
   "outputs": [
    {
     "ename": "NameError",
     "evalue": "name 'transform_img' is not defined",
     "output_type": "error",
     "traceback": [
      "\u001b[0;31m---------------------------------------------------------------------------\u001b[0m",
      "\u001b[0;31mNameError\u001b[0m                                 Traceback (most recent call last)",
      "Cell \u001b[0;32mIn[55], line 1\u001b[0m\n\u001b[0;32m----> 1\u001b[0m \u001b[43mload_img\u001b[49m\u001b[43m(\u001b[49m\u001b[38;5;241;43m359803652\u001b[39;49m\u001b[43m,\u001b[49m\u001b[43m \u001b[49m\u001b[38;5;241;43m12\u001b[39;49m\u001b[43m,\u001b[49m\u001b[43m \u001b[49m\u001b[43mconfig\u001b[49m\u001b[43m)\u001b[49m\n",
      "Cell \u001b[0;32mIn[54], line 63\u001b[0m, in \u001b[0;36mload_img\u001b[0;34m(seed, timestep, config)\u001b[0m\n\u001b[1;32m     60\u001b[0m img1 \u001b[38;5;241m=\u001b[39m cv2\u001b[38;5;241m.\u001b[39mimread(image_path_1, \u001b[38;5;241m0\u001b[39m)\n\u001b[1;32m     61\u001b[0m img2 \u001b[38;5;241m=\u001b[39m cv2\u001b[38;5;241m.\u001b[39mimread(image_path_2, \u001b[38;5;241m0\u001b[39m)\n\u001b[0;32m---> 63\u001b[0m img_full1 \u001b[38;5;241m=\u001b[39m \u001b[43mtransform_img\u001b[49m(img1, dim\u001b[38;5;241m=\u001b[39m[\u001b[38;5;28mself\u001b[39m\u001b[38;5;241m.\u001b[39mconfig\u001b[38;5;241m.\u001b[39mimage_size, \u001b[38;5;28mself\u001b[39m\u001b[38;5;241m.\u001b[39mconfig\u001b[38;5;241m.\u001b[39mimage_size], zero_screenshot\u001b[38;5;241m=\u001b[39m\u001b[38;5;28mself\u001b[39m\u001b[38;5;241m.\u001b[39mzero_screenshot, aperture_size\u001b[38;5;241m=\u001b[39m\u001b[38;5;28mself\u001b[39m\u001b[38;5;241m.\u001b[39mconfig\u001b[38;5;241m.\u001b[39maperture_size)\n\u001b[1;32m     64\u001b[0m img_full2 \u001b[38;5;241m=\u001b[39m transform_img(img2, dim\u001b[38;5;241m=\u001b[39m[\u001b[38;5;28mself\u001b[39m\u001b[38;5;241m.\u001b[39mconfig\u001b[38;5;241m.\u001b[39mimage_size, \u001b[38;5;28mself\u001b[39m\u001b[38;5;241m.\u001b[39mconfig\u001b[38;5;241m.\u001b[39mimage_size], zero_screenshot\u001b[38;5;241m=\u001b[39m\u001b[38;5;28mself\u001b[39m\u001b[38;5;241m.\u001b[39mzero_screenshot, aperture_size\u001b[38;5;241m=\u001b[39m\u001b[38;5;28mself\u001b[39m\u001b[38;5;241m.\u001b[39mconfig\u001b[38;5;241m.\u001b[39maperture_size)\n\u001b[1;32m     66\u001b[0m img_part1 \u001b[38;5;241m=\u001b[39m transform_img(img1, dim\u001b[38;5;241m=\u001b[39m[\u001b[38;5;28mself\u001b[39m\u001b[38;5;241m.\u001b[39mconfig\u001b[38;5;241m.\u001b[39mimage_size, \u001b[38;5;28mself\u001b[39m\u001b[38;5;241m.\u001b[39mconfig\u001b[38;5;241m.\u001b[39mimage_size], zero_screenshot\u001b[38;5;241m=\u001b[39m\u001b[38;5;28mself\u001b[39m\u001b[38;5;241m.\u001b[39mzero_screenshot_part, part_size\u001b[38;5;241m=\u001b[39m\u001b[38;5;28mself\u001b[39m\u001b[38;5;241m.\u001b[39mconfig\u001b[38;5;241m.\u001b[39mpart_size, player_x\u001b[38;5;241m=\u001b[39mplayer_x, player_y\u001b[38;5;241m=\u001b[39mplayer_y, aperture_size\u001b[38;5;241m=\u001b[39m\u001b[38;5;28mself\u001b[39m\u001b[38;5;241m.\u001b[39mconfig\u001b[38;5;241m.\u001b[39maperture_size)\n",
      "\u001b[0;31mNameError\u001b[0m: name 'transform_img' is not defined"
     ]
    }
   ],
   "source": [
    "load_img(359803652, 12, config)"
   ]
  },
  {
   "cell_type": "code",
   "execution_count": 1,
   "id": "a6ec3550",
   "metadata": {},
   "outputs": [
    {
     "name": "stderr",
     "output_type": "stream",
     "text": [
      "/usr/local/lib/python3.8/dist-packages/tqdm/auto.py:21: TqdmWarning: IProgress not found. Please update jupyter and ipywidgets. See https://ipywidgets.readthedocs.io/en/stable/user_install.html\n",
      "  from .autonotebook import tqdm as notebook_tqdm\n"
     ]
    }
   ],
   "source": [
    "config_file='config.yml'\n",
    "\n",
    "from dataset import EdgesDataset, get_seed_list\n",
    "from utils import load_config\n",
    "from torch.utils.data import DataLoader\n",
    "import torch\n",
    "import numpy as np\n",
    "\n",
    "config = load_config(config_file)"
   ]
  },
  {
   "cell_type": "code",
   "execution_count": 2,
   "id": "970cb703",
   "metadata": {},
   "outputs": [],
   "source": [
    "train_ds = EdgesDataset(config=config)\n",
    "\n",
    "dataloader = DataLoader(train_ds, config.parameters.dreamer.batch_size, shuffle=False)"
   ]
  },
  {
   "cell_type": "code",
   "execution_count": 3,
   "id": "98443429",
   "metadata": {},
   "outputs": [],
   "source": [
    "seeds = get_seed_list(config.parameters.edges_dataset.data_root)"
   ]
  },
  {
   "cell_type": "code",
   "execution_count": 4,
   "id": "cbe2279e",
   "metadata": {},
   "outputs": [],
   "source": [
    "# episode = [train_ds.load_timestep(seeds[0],timestep) for timestep in np.arange(6,7668,6)]"
   ]
  },
  {
   "cell_type": "code",
   "execution_count": 5,
   "id": "78da4a44",
   "metadata": {},
   "outputs": [],
   "source": [
    "observations, actions, rewards, terminals = train_ds.load_episodes(seeds[1])"
   ]
  },
  {
   "cell_type": "code",
   "execution_count": 6,
   "id": "1999cf45",
   "metadata": {},
   "outputs": [
    {
     "name": "stdout",
     "output_type": "stream",
     "text": [
      "(1277, 4, 64, 64) (1277, 2) (1277,) (1277,)\n"
     ]
    }
   ],
   "source": [
    "print(observations.shape, actions.shape, rewards.shape, terminals.shape)"
   ]
  },
  {
   "cell_type": "code",
   "execution_count": 7,
   "id": "fe0769b9",
   "metadata": {},
   "outputs": [],
   "source": [
    "from d3rlpy.dataset import MDPDataset\n",
    "\n",
    "dataset = MDPDataset(observations, actions, rewards, terminals, discrete_action=False)"
   ]
  },
  {
   "cell_type": "code",
   "execution_count": 8,
   "id": "a4dc1ee4",
   "metadata": {},
   "outputs": [],
   "source": [
    "observation_shape = dataset.get_observation_shape()\n",
    "action_size =  dataset.get_action_size()"
   ]
  },
  {
   "cell_type": "code",
   "execution_count": 9,
   "id": "ed9b65d1",
   "metadata": {},
   "outputs": [],
   "source": [
    "dataset.build_episodes()"
   ]
  },
  {
   "cell_type": "code",
   "execution_count": 10,
   "id": "68508141",
   "metadata": {},
   "outputs": [],
   "source": [
    "transitions = dataset.episodes[0].transitions"
   ]
  },
  {
   "cell_type": "code",
   "execution_count": 11,
   "id": "86c5d92a",
   "metadata": {},
   "outputs": [],
   "source": [
    "from buffer import ReplayBuffer"
   ]
  },
  {
   "cell_type": "code",
   "execution_count": 12,
   "id": "ced76a7d",
   "metadata": {},
   "outputs": [],
   "source": [
    "buffer = ReplayBuffer(observation_shape, action_size, config)"
   ]
  },
  {
   "cell_type": "code",
   "execution_count": 13,
   "id": "d0ca6ab0",
   "metadata": {},
   "outputs": [],
   "source": [
    "for episode in dataset.episodes:\n",
    "    for transition in episode.transitions:\n",
    "        buffer.add(transition.observation, transition.action, transition.reward, transition.next_observation, transition.terminal)"
   ]
  },
  {
   "cell_type": "code",
   "execution_count": 14,
   "id": "3fba2536",
   "metadata": {},
   "outputs": [
    {
     "data": {
      "text/plain": [
       "1277"
      ]
     },
     "execution_count": 14,
     "metadata": {},
     "output_type": "execute_result"
    }
   ],
   "source": [
    "buffer.buffer_index"
   ]
  },
  {
   "cell_type": "code",
   "execution_count": 15,
   "id": "96801fbe",
   "metadata": {},
   "outputs": [
    {
     "name": "stdout",
     "output_type": "stream",
     "text": [
      "[[0 1 2 3 4 5 6 7 8 9]]\n",
      "[[ 243  244  245  246  247  248  249  250  251  252]\n",
      " [1053 1054 1055 1056 1057 1058 1059 1060 1061 1062]\n",
      " [  36   37   38   39   40   41   42   43   44   45]\n",
      " [  17   18   19   20   21   22   23   24   25   26]\n",
      " [ 581  582  583  584  585  586  587  588  589  590]\n",
      " [ 334  335  336  337  338  339  340  341  342  343]\n",
      " [1242 1243 1244 1245 1246 1247 1248 1249 1250 1251]\n",
      " [1004 1005 1006 1007 1008 1009 1010 1011 1012 1013]\n",
      " [ 968  969  970  971  972  973  974  975  976  977]\n",
      " [  23   24   25   26   27   28   29   30   31   32]]\n"
     ]
    },
    {
     "data": {
      "text/plain": [
       "torch.Size([10, 10, 4, 64, 64])"
      ]
     },
     "execution_count": 15,
     "metadata": {},
     "output_type": "execute_result"
    }
   ],
   "source": [
    "buffer.sample(10,10)['observation'].shape"
   ]
  },
  {
   "cell_type": "code",
   "execution_count": 18,
   "id": "37d1f4f6",
   "metadata": {},
   "outputs": [
    {
     "data": {
      "text/plain": [
       "torch.Size([10, 10, 2, 64, 64])"
      ]
     },
     "execution_count": 18,
     "metadata": {},
     "output_type": "execute_result"
    }
   ],
   "source": [
    "buffer.sample(10,10)['observation'][:,:,:2,:,:].shape"
   ]
  },
  {
   "cell_type": "code",
   "execution_count": 23,
   "id": "423b8c82",
   "metadata": {},
   "outputs": [
    {
     "data": {
      "text/plain": [
       "-97.0"
      ]
     },
     "execution_count": 23,
     "metadata": {},
     "output_type": "execute_result"
    }
   ],
   "source": [
    "dataset.episodes[0].compute_return()"
   ]
  },
  {
   "cell_type": "code",
   "execution_count": null,
   "id": "aca29120",
   "metadata": {},
   "outputs": [],
   "source": []
  }
 ],
 "metadata": {
  "kernelspec": {
   "display_name": "Python 3 (ipykernel)",
   "language": "python",
   "name": "python3"
  },
  "language_info": {
   "codemirror_mode": {
    "name": "ipython",
    "version": 3
   },
   "file_extension": ".py",
   "mimetype": "text/x-python",
   "name": "python",
   "nbconvert_exporter": "python",
   "pygments_lexer": "ipython3",
   "version": "3.8.10"
  }
 },
 "nbformat": 4,
 "nbformat_minor": 5
}
