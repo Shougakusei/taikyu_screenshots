{
 "cells": [
  {
   "cell_type": "code",
   "execution_count": null,
   "id": "57d6e44a",
   "metadata": {},
   "outputs": [],
   "source": [
    "!pip install tb"
   ]
  },
  {
   "cell_type": "code",
   "execution_count": null,
   "id": "8f2b5191",
   "metadata": {
    "scrolled": true
   },
   "outputs": [],
   "source": [
    "!pip install attrdict"
   ]
  },
  {
   "cell_type": "code",
   "execution_count": null,
   "id": "a64cac61",
   "metadata": {},
   "outputs": [],
   "source": [
    "!pip install d3rlpy"
   ]
  },
  {
   "cell_type": "code",
   "execution_count": 3,
   "id": "40cee847",
   "metadata": {},
   "outputs": [
    {
     "name": "stdout",
     "output_type": "stream",
     "text": [
      "Random Seed:  1141\n"
     ]
    }
   ],
   "source": [
    "import os\n",
    "import re\n",
    "\n",
    "import torch\n",
    "import numpy as np\n",
    "from torchvision.utils import make_grid\n",
    "import matplotlib.pyplot as plt\n",
    "from torch.utils.data import DataLoader\n",
    "from torchvision.datasets import ImageFolder\n",
    "from torchvision import datasets\n",
    "from torchvision import transforms\n",
    "from torch import nn\n",
    "from torch.nn import functional as F\n",
    "import random\n",
    "import torchvision.utils as vutils\n",
    "import argparse\n",
    "import math\n",
    "import cv2\n",
    "from matplotlib import pyplot as plt\n",
    "\n",
    "from torchsummary import summary\n",
    "\n",
    "from abc import abstractmethod\n",
    "\n",
    "# Set random seed for reproducibility\n",
    "seed = 1141\n",
    "# seed = random.randint(1, 10000) # use if you want new results\n",
    "print(\"Random Seed: \", seed)\n",
    "random.seed(seed)\n",
    "torch.manual_seed(seed)\n",
    "device = torch.device(\"cuda:8\" if (torch.cuda.is_available()) else \"cpu\")"
   ]
  },
  {
   "cell_type": "code",
   "execution_count": 31,
   "id": "528862f8",
   "metadata": {},
   "outputs": [],
   "source": [
    "train_ds = EdgesDataset(config=config)\n",
    "\n",
    "dataloader = DataLoader(train_ds, config.parameters.dreamer.batch_size, shuffle=False)"
   ]
  },
  {
   "cell_type": "code",
   "execution_count": 41,
   "id": "2eaab97e",
   "metadata": {},
   "outputs": [
    {
     "data": {
      "text/plain": [
       "(tensor([[[0., 1., 0.,  ..., 0., 0., 0.],\n",
       "          [0., 1., 1.,  ..., 0., 0., 0.],\n",
       "          [0., 0., 0.,  ..., 0., 0., 0.],\n",
       "          ...,\n",
       "          [0., 0., 0.,  ..., 0., 0., 0.],\n",
       "          [0., 0., 0.,  ..., 0., 0., 0.],\n",
       "          [0., 0., 0.,  ..., 0., 0., 0.]],\n",
       " \n",
       "         [[1., 0., 1.,  ..., 0., 0., 0.],\n",
       "          [1., 1., 0.,  ..., 0., 0., 0.],\n",
       "          [0., 0., 0.,  ..., 0., 0., 0.],\n",
       "          ...,\n",
       "          [0., 0., 0.,  ..., 0., 0., 0.],\n",
       "          [0., 0., 0.,  ..., 0., 0., 0.],\n",
       "          [0., 0., 0.,  ..., 0., 0., 0.]]]),\n",
       " tensor([[[0., 1., 0.,  ..., 0., 0., 0.],\n",
       "          [0., 1., 0.,  ..., 0., 0., 0.],\n",
       "          [0., 1., 0.,  ..., 0., 0., 0.],\n",
       "          ...,\n",
       "          [0., 0., 1.,  ..., 0., 0., 0.],\n",
       "          [0., 0., 1.,  ..., 0., 0., 0.],\n",
       "          [0., 0., 1.,  ..., 1., 1., 1.]],\n",
       " \n",
       "         [[0., 1., 0.,  ..., 0., 0., 0.],\n",
       "          [0., 1., 0.,  ..., 0., 0., 0.],\n",
       "          [0., 1., 0.,  ..., 0., 0., 0.],\n",
       "          ...,\n",
       "          [0., 0., 1.,  ..., 1., 1., 1.],\n",
       "          [0., 0., 1.,  ..., 1., 0., 0.],\n",
       "          [0., 0., 1.,  ..., 0., 0., 0.]]]),\n",
       " 1008,\n",
       " (126, 501),\n",
       " (0, 6),\n",
       " 0)"
      ]
     },
     "execution_count": 41,
     "metadata": {},
     "output_type": "execute_result"
    }
   ],
   "source": [
    "train_ds[0]"
   ]
  },
  {
   "cell_type": "code",
   "execution_count": 2,
   "id": "b6d5658e",
   "metadata": {},
   "outputs": [],
   "source": [
    "from encoder import Encoder"
   ]
  },
  {
   "cell_type": "code",
   "execution_count": 3,
   "id": "aab557f5",
   "metadata": {},
   "outputs": [],
   "source": [
    "model = Encoder(config)"
   ]
  },
  {
   "cell_type": "code",
   "execution_count": 6,
   "id": "00e9bc8a",
   "metadata": {},
   "outputs": [
    {
     "data": {
      "text/plain": [
       "Encoder(\n",
       "  (_convs): Sequential(\n",
       "    (0): Conv2dSame(2, 8, kernel_size=(3, 3), stride=(2, 2))\n",
       "    (1): BatchNorm2d(8, eps=1e-05, momentum=0.1, affine=True, track_running_stats=True)\n",
       "    (2): LeakyReLU(negative_slope=0.01)\n",
       "    (3): Conv2dSame(8, 16, kernel_size=(3, 3), stride=(2, 2))\n",
       "    (4): BatchNorm2d(16, eps=1e-05, momentum=0.1, affine=True, track_running_stats=True)\n",
       "    (5): LeakyReLU(negative_slope=0.01)\n",
       "    (6): Conv2dSame(16, 32, kernel_size=(3, 3), stride=(2, 2))\n",
       "    (7): BatchNorm2d(32, eps=1e-05, momentum=0.1, affine=True, track_running_stats=True)\n",
       "    (8): LeakyReLU(negative_slope=0.01)\n",
       "    (9): Conv2dSame(32, 64, kernel_size=(3, 3), stride=(2, 2))\n",
       "    (10): BatchNorm2d(64, eps=1e-05, momentum=0.1, affine=True, track_running_stats=True)\n",
       "    (11): LeakyReLU(negative_slope=0.01)\n",
       "  )\n",
       ")"
      ]
     },
     "execution_count": 6,
     "metadata": {},
     "output_type": "execute_result"
    }
   ],
   "source": [
    "model.to('cuda')"
   ]
  },
  {
   "cell_type": "code",
   "execution_count": 2,
   "id": "2e7443f4",
   "metadata": {},
   "outputs": [],
   "source": [
    "from decoder import Decoder"
   ]
  },
  {
   "cell_type": "code",
   "execution_count": 3,
   "id": "3fe9c049",
   "metadata": {},
   "outputs": [],
   "source": [
    "model = Decoder(config)"
   ]
  },
  {
   "cell_type": "code",
   "execution_count": 4,
   "id": "6b98b14b",
   "metadata": {},
   "outputs": [
    {
     "data": {
      "text/plain": [
       "Decoder(\n",
       "  (_conv_transes): Sequential(\n",
       "    (0): ConvTranspose2dSame(64, 32, kernel_size=(3, 3), stride=(2, 2))\n",
       "    (1): BatchNorm2d(32, eps=1e-05, momentum=0.1, affine=True, track_running_stats=True)\n",
       "    (2): LeakyReLU(negative_slope=0.01)\n",
       "    (3): ConvTranspose2dSame(32, 16, kernel_size=(3, 3), stride=(2, 2))\n",
       "    (4): BatchNorm2d(16, eps=1e-05, momentum=0.1, affine=True, track_running_stats=True)\n",
       "    (5): LeakyReLU(negative_slope=0.01)\n",
       "    (6): ConvTranspose2dSame(16, 8, kernel_size=(3, 3), stride=(2, 2))\n",
       "    (7): BatchNorm2d(8, eps=1e-05, momentum=0.1, affine=True, track_running_stats=True)\n",
       "    (8): LeakyReLU(negative_slope=0.01)\n",
       "    (9): ConvTranspose2dSame(8, 2, kernel_size=(3, 3), stride=(2, 2))\n",
       "    (10): Sigmoid()\n",
       "  )\n",
       ")"
      ]
     },
     "execution_count": 4,
     "metadata": {},
     "output_type": "execute_result"
    }
   ],
   "source": [
    "model.to('cuda')"
   ]
  },
  {
   "cell_type": "code",
   "execution_count": 1,
   "id": "be4e6e0f",
   "metadata": {},
   "outputs": [],
   "source": [
    "from vae import EdgeEntropyVAE"
   ]
  },
  {
   "cell_type": "code",
   "execution_count": 3,
   "id": "9bcc6c04",
   "metadata": {},
   "outputs": [],
   "source": [
    "model = EdgeEntropyVAE(config, 0.5)"
   ]
  },
  {
   "cell_type": "code",
   "execution_count": 4,
   "id": "567c2ae3",
   "metadata": {},
   "outputs": [
    {
     "data": {
      "text/plain": [
       "EdgeEntropyVAE(\n",
       "  (encoder): Encoder(\n",
       "    (_convs): Sequential(\n",
       "      (0): Conv2dSame(2, 8, kernel_size=(3, 3), stride=(2, 2))\n",
       "      (1): BatchNorm2d(8, eps=1e-05, momentum=0.1, affine=True, track_running_stats=True)\n",
       "      (2): LeakyReLU(negative_slope=0.01)\n",
       "      (3): Conv2dSame(8, 16, kernel_size=(3, 3), stride=(2, 2))\n",
       "      (4): BatchNorm2d(16, eps=1e-05, momentum=0.1, affine=True, track_running_stats=True)\n",
       "      (5): LeakyReLU(negative_slope=0.01)\n",
       "      (6): Conv2dSame(16, 32, kernel_size=(3, 3), stride=(2, 2))\n",
       "      (7): BatchNorm2d(32, eps=1e-05, momentum=0.1, affine=True, track_running_stats=True)\n",
       "      (8): LeakyReLU(negative_slope=0.01)\n",
       "      (9): Conv2dSame(32, 64, kernel_size=(3, 3), stride=(2, 2))\n",
       "      (10): BatchNorm2d(64, eps=1e-05, momentum=0.1, affine=True, track_running_stats=True)\n",
       "      (11): LeakyReLU(negative_slope=0.01)\n",
       "    )\n",
       "  )\n",
       "  (decoder): Decoder(\n",
       "    (_conv_transes): Sequential(\n",
       "      (0): ConvTranspose2dSame(64, 32, kernel_size=(3, 3), stride=(2, 2))\n",
       "      (1): BatchNorm2d(32, eps=1e-05, momentum=0.1, affine=True, track_running_stats=True)\n",
       "      (2): LeakyReLU(negative_slope=0.01)\n",
       "      (3): ConvTranspose2dSame(32, 16, kernel_size=(3, 3), stride=(2, 2))\n",
       "      (4): BatchNorm2d(16, eps=1e-05, momentum=0.1, affine=True, track_running_stats=True)\n",
       "      (5): LeakyReLU(negative_slope=0.01)\n",
       "      (6): ConvTranspose2dSame(16, 8, kernel_size=(3, 3), stride=(2, 2))\n",
       "      (7): BatchNorm2d(8, eps=1e-05, momentum=0.1, affine=True, track_running_stats=True)\n",
       "      (8): LeakyReLU(negative_slope=0.01)\n",
       "      (9): ConvTranspose2dSame(8, 2, kernel_size=(3, 3), stride=(2, 2))\n",
       "      (10): Sigmoid()\n",
       "    )\n",
       "  )\n",
       "  (fc_mu): Linear(in_features=1024, out_features=64, bias=True)\n",
       "  (fc_var): Linear(in_features=1024, out_features=64, bias=True)\n",
       "  (decoder_input): Linear(in_features=64, out_features=1024, bias=True)\n",
       "  (loss): EdgeDetectionEntropyLoss()\n",
       ")"
      ]
     },
     "execution_count": 4,
     "metadata": {},
     "output_type": "execute_result"
    }
   ],
   "source": [
    "model"
   ]
  },
  {
   "cell_type": "code",
   "execution_count": 10,
   "id": "9c7e741c",
   "metadata": {},
   "outputs": [
    {
     "data": {
      "text/plain": [
       "tensor([-0.3455])"
      ]
     },
     "execution_count": 10,
     "metadata": {},
     "output_type": "execute_result"
    }
   ],
   "source": [
    "model.reparameterize(torch.Tensor([0]), torch.Tensor([2]))"
   ]
  },
  {
   "cell_type": "code",
   "execution_count": 15,
   "id": "52580fda",
   "metadata": {},
   "outputs": [
    {
     "data": {
      "text/plain": [
       "torch.Size([2, 1, 2, 2])"
      ]
     },
     "execution_count": 15,
     "metadata": {},
     "output_type": "execute_result"
    }
   ],
   "source": [
    "torch.stack([torch.Tensor([[[0,1],[0,1]]]),torch.Tensor([[[1,1],[1,1]]])]).shape"
   ]
  },
  {
   "cell_type": "code",
   "execution_count": 54,
   "id": "d9518fe3",
   "metadata": {},
   "outputs": [],
   "source": [
    "import re\n",
    "import cv2\n",
    "\n",
    "def extract_metadata(fpath):\n",
    "    \n",
    "    with open(fpath, 'r') as file:\n",
    "        info = file.read().rstrip()\n",
    "        \n",
    "    info_splited = info.split('_')\n",
    "    \n",
    "    timestep = int(info_splited[0])\n",
    "    reward = int(info_splited[1])\n",
    "    player_x = int(info_splited[2])\n",
    "    player_y = int(info_splited[3])\n",
    "    \n",
    "    \n",
    "    movements = info_splited[4].split(';')[:-1]\n",
    "    \n",
    "    walk_distance = jump_height = jump_true = 0\n",
    "    \n",
    "    for i in range(len(movements)):\n",
    "        \n",
    "        movement_list = [int(x) for x in list(movements[i])]\n",
    "        \n",
    "        if movement_list[0] == 1:\n",
    "            walk_distance -= 1\n",
    "            \n",
    "        if movement_list[1] == 1:\n",
    "            walk_distance += 1\n",
    "        \n",
    "        if movement_list[2] == 1:\n",
    "            jump_true = 1\n",
    "        \n",
    "        # Если jumpt_true == 0, то не делаем ничего\n",
    "        if (movement_list[3] == 0) and (jump_true == 1):\n",
    "            jump_height += 1\n",
    "        elif (movement_list[3] == 1) and (jump_true == 1):\n",
    "            jump_height += 1\n",
    "            jump_true = 0\n",
    "    \n",
    "    return timestep, reward, player_x, player_y, walk_distance, jump_height\n",
    "\n",
    "def load_img(seed, timestep, config):\n",
    "    \n",
    "    image_path_1 = config.parameters.edges_dataset.data_root + f'/screenshots0000_{seed}/{timestep}.png'\n",
    "    image_path_2 = re.sub(r'/screenshots/', r'/screenshots_add/', image_path_1)\n",
    "\n",
    "    metadata_path = image_path_2[:-3] + 'txt'\n",
    "\n",
    "    timestep, reward, player_x, player_y, walk_distance, jump_height = extract_metadata(metadata_path)\n",
    "\n",
    "    if timestep < 7668:\n",
    "        timestep_next = timestep + 6\n",
    "        terminal = False\n",
    "    else:\n",
    "        terminal = True\n",
    "\n",
    "    # do your magic here\n",
    "    # флаг 0 = читаем черно-белое изображение\n",
    "    img1 = cv2.imread(image_path_1, 0)\n",
    "    img2 = cv2.imread(image_path_2, 0)\n",
    "\n",
    "    img_full1 = transform_img(img1, dim=[self.config.image_size, self.config.image_size], zero_screenshot=self.zero_screenshot, aperture_size=self.config.aperture_size)\n",
    "    img_full2 = transform_img(img2, dim=[self.config.image_size, self.config.image_size], zero_screenshot=self.zero_screenshot, aperture_size=self.config.aperture_size)\n",
    "\n",
    "    img_part1 = transform_img(img1, dim=[self.config.image_size, self.config.image_size], zero_screenshot=self.zero_screenshot_part, part_size=self.config.part_size, player_x=player_x, player_y=player_y, aperture_size=self.config.aperture_size)\n",
    "    img_part2 = transform_img(img2, dim=[self.config.image_size, self.config.image_size], zero_screenshot=self.zero_screenshot_part, part_size=self.config.part_size, player_x=player_x, player_y=player_y, aperture_size=self.config.aperture_size)\n",
    "\n",
    "    sample_full = cv2.merge([img_full1, img_full2])\n",
    "    sample_part = cv2.merge([img_part1, img_part2])\n",
    "    \n",
    "    return transforms.ToTensor()(sample_full), transforms.ToTensor()(sample_part), timestep, (player_x, player_y), (walk_distance, jump_height), reward, terminal"
   ]
  },
  {
   "cell_type": "code",
   "execution_count": 55,
   "id": "331e2161",
   "metadata": {},
   "outputs": [
    {
     "ename": "NameError",
     "evalue": "name 'transform_img' is not defined",
     "output_type": "error",
     "traceback": [
      "\u001b[0;31m---------------------------------------------------------------------------\u001b[0m",
      "\u001b[0;31mNameError\u001b[0m                                 Traceback (most recent call last)",
      "Cell \u001b[0;32mIn[55], line 1\u001b[0m\n\u001b[0;32m----> 1\u001b[0m \u001b[43mload_img\u001b[49m\u001b[43m(\u001b[49m\u001b[38;5;241;43m359803652\u001b[39;49m\u001b[43m,\u001b[49m\u001b[43m \u001b[49m\u001b[38;5;241;43m12\u001b[39;49m\u001b[43m,\u001b[49m\u001b[43m \u001b[49m\u001b[43mconfig\u001b[49m\u001b[43m)\u001b[49m\n",
      "Cell \u001b[0;32mIn[54], line 63\u001b[0m, in \u001b[0;36mload_img\u001b[0;34m(seed, timestep, config)\u001b[0m\n\u001b[1;32m     60\u001b[0m img1 \u001b[38;5;241m=\u001b[39m cv2\u001b[38;5;241m.\u001b[39mimread(image_path_1, \u001b[38;5;241m0\u001b[39m)\n\u001b[1;32m     61\u001b[0m img2 \u001b[38;5;241m=\u001b[39m cv2\u001b[38;5;241m.\u001b[39mimread(image_path_2, \u001b[38;5;241m0\u001b[39m)\n\u001b[0;32m---> 63\u001b[0m img_full1 \u001b[38;5;241m=\u001b[39m \u001b[43mtransform_img\u001b[49m(img1, dim\u001b[38;5;241m=\u001b[39m[\u001b[38;5;28mself\u001b[39m\u001b[38;5;241m.\u001b[39mconfig\u001b[38;5;241m.\u001b[39mimage_size, \u001b[38;5;28mself\u001b[39m\u001b[38;5;241m.\u001b[39mconfig\u001b[38;5;241m.\u001b[39mimage_size], zero_screenshot\u001b[38;5;241m=\u001b[39m\u001b[38;5;28mself\u001b[39m\u001b[38;5;241m.\u001b[39mzero_screenshot, aperture_size\u001b[38;5;241m=\u001b[39m\u001b[38;5;28mself\u001b[39m\u001b[38;5;241m.\u001b[39mconfig\u001b[38;5;241m.\u001b[39maperture_size)\n\u001b[1;32m     64\u001b[0m img_full2 \u001b[38;5;241m=\u001b[39m transform_img(img2, dim\u001b[38;5;241m=\u001b[39m[\u001b[38;5;28mself\u001b[39m\u001b[38;5;241m.\u001b[39mconfig\u001b[38;5;241m.\u001b[39mimage_size, \u001b[38;5;28mself\u001b[39m\u001b[38;5;241m.\u001b[39mconfig\u001b[38;5;241m.\u001b[39mimage_size], zero_screenshot\u001b[38;5;241m=\u001b[39m\u001b[38;5;28mself\u001b[39m\u001b[38;5;241m.\u001b[39mzero_screenshot, aperture_size\u001b[38;5;241m=\u001b[39m\u001b[38;5;28mself\u001b[39m\u001b[38;5;241m.\u001b[39mconfig\u001b[38;5;241m.\u001b[39maperture_size)\n\u001b[1;32m     66\u001b[0m img_part1 \u001b[38;5;241m=\u001b[39m transform_img(img1, dim\u001b[38;5;241m=\u001b[39m[\u001b[38;5;28mself\u001b[39m\u001b[38;5;241m.\u001b[39mconfig\u001b[38;5;241m.\u001b[39mimage_size, \u001b[38;5;28mself\u001b[39m\u001b[38;5;241m.\u001b[39mconfig\u001b[38;5;241m.\u001b[39mimage_size], zero_screenshot\u001b[38;5;241m=\u001b[39m\u001b[38;5;28mself\u001b[39m\u001b[38;5;241m.\u001b[39mzero_screenshot_part, part_size\u001b[38;5;241m=\u001b[39m\u001b[38;5;28mself\u001b[39m\u001b[38;5;241m.\u001b[39mconfig\u001b[38;5;241m.\u001b[39mpart_size, player_x\u001b[38;5;241m=\u001b[39mplayer_x, player_y\u001b[38;5;241m=\u001b[39mplayer_y, aperture_size\u001b[38;5;241m=\u001b[39m\u001b[38;5;28mself\u001b[39m\u001b[38;5;241m.\u001b[39mconfig\u001b[38;5;241m.\u001b[39maperture_size)\n",
      "\u001b[0;31mNameError\u001b[0m: name 'transform_img' is not defined"
     ]
    }
   ],
   "source": [
    "load_img(359803652, 12, config)"
   ]
  },
  {
   "cell_type": "code",
   "execution_count": 3,
   "id": "9eed0f53",
   "metadata": {},
   "outputs": [],
   "source": [
    "train_ds = EdgesDataset(config=config)\n",
    "\n",
    "dataloader = DataLoader(train_ds, config.parameters.dreamer.batch_size, shuffle=False)"
   ]
  },
  {
   "cell_type": "code",
   "execution_count": 4,
   "id": "635cae3b",
   "metadata": {},
   "outputs": [],
   "source": [
    "seeds = get_seed_list(config.parameters.edges_dataset.data_root)"
   ]
  },
  {
   "cell_type": "code",
   "execution_count": 6,
   "id": "0be01ee4",
   "metadata": {},
   "outputs": [],
   "source": [
    "observations, actions, rewards, terminals = train_ds.load_episodes(seeds)"
   ]
  },
  {
   "cell_type": "code",
   "execution_count": 7,
   "id": "b8c173ca",
   "metadata": {},
   "outputs": [
    {
     "name": "stdout",
     "output_type": "stream",
     "text": [
      "(12770, 4, 64, 64) (12770, 2) (12770,) (12770,)\n"
     ]
    }
   ],
   "source": [
    "print(observations.shape, actions.shape, rewards.shape, terminals.shape)"
   ]
  },
  {
   "cell_type": "code",
   "execution_count": 8,
   "id": "2dfb2512",
   "metadata": {},
   "outputs": [],
   "source": [
    "from d3rlpy.dataset import MDPDataset\n",
    "\n",
    "dataset = MDPDataset(observations, actions, rewards, terminals, discrete_action=False)"
   ]
  },
  {
   "cell_type": "code",
   "execution_count": 16,
   "id": "049da46c",
   "metadata": {},
   "outputs": [],
   "source": [
    "dataset.dump('MDPdataset_SMF_' + datetime.now().strftime(\"%Y-%m-%d_%H-%M-%S\"))"
   ]
  },
  {
   "cell_type": "code",
   "execution_count": 13,
   "id": "ba0ef9cb",
   "metadata": {},
   "outputs": [],
   "source": [
    "encoder = Encoder(config).to(device)"
   ]
  },
  {
   "cell_type": "code",
   "execution_count": 15,
   "id": "814981cb",
   "metadata": {
    "scrolled": true
   },
   "outputs": [
    {
     "data": {
      "text/plain": [
       "tensor([[[ 2.3416e-01,  6.0045e-01,  1.3020e+00,  ...,  1.1233e-01,\n",
       "           1.1233e-01, -8.3058e-04],\n",
       "         [ 3.3554e-01,  9.1756e-01,  6.0683e-01,  ..., -5.1583e-04,\n",
       "          -5.1583e-04,  1.5307e-01],\n",
       "         [-1.5669e-03,  1.1114e+00,  5.8742e-01,  ...,  1.2243e+00,\n",
       "           2.1191e-01,  2.8043e+00],\n",
       "         ...,\n",
       "         [-5.0152e-03,  1.6649e+00,  5.2799e-01,  ..., -6.6693e-03,\n",
       "          -6.6693e-03, -5.2427e-03],\n",
       "         [ 3.0595e-01,  1.8360e+00, -1.6966e-03,  ...,  1.9619e+00,\n",
       "           1.6654e+00,  1.0970e+00],\n",
       "         [-7.8754e-03,  1.2732e+00, -4.6416e-03,  ..., -2.4606e-02,\n",
       "          -4.2104e-04, -3.7070e-03]],\n",
       "\n",
       "        [[ 1.9091e+00,  1.2435e-01,  2.9624e+00,  ...,  1.3341e+00,\n",
       "          -1.0054e-03,  4.9796e-01],\n",
       "         [ 1.9683e+00,  8.7909e-01,  4.6802e-01,  ...,  2.9038e+00,\n",
       "           4.3718e-01,  1.3804e+00],\n",
       "         [ 1.4281e-01,  7.9280e-01,  2.2420e-01,  ...,  1.7712e+00,\n",
       "           3.2704e+00,  1.3540e+00],\n",
       "         ...,\n",
       "         [-3.9153e-03,  3.3746e-01, -1.2184e-03,  ...,  8.6625e-01,\n",
       "           3.9416e-01,  8.7183e-01],\n",
       "         [ 1.1876e+00, -9.4665e-03,  6.6755e-01,  ...,  2.2650e+00,\n",
       "           2.0671e+00,  1.8974e+00],\n",
       "         [ 1.0189e+00, -5.2450e-03,  9.4795e-01,  ..., -3.2412e-03,\n",
       "           1.9025e-01, -6.0903e-04]],\n",
       "\n",
       "        [[-4.8068e-04,  6.2160e-01,  1.2218e+00,  ...,  1.2867e+00,\n",
       "           1.2867e+00,  1.4361e+00],\n",
       "         [-9.0946e-03,  2.4619e+00,  1.0952e+00,  ...,  7.6837e-01,\n",
       "           2.1626e+00,  1.4114e+00],\n",
       "         [-1.2736e-03,  5.9041e-01, -2.6826e-02,  ..., -2.0472e-03,\n",
       "          -8.5038e-03, -2.5219e-03],\n",
       "         ...,\n",
       "         [-8.1939e-03,  1.9842e+00,  1.2761e+00,  ...,  1.7597e-01,\n",
       "           1.7597e-01,  4.3284e-01],\n",
       "         [ 8.6120e-01,  1.0372e+00, -6.5591e-03,  ..., -5.7017e-03,\n",
       "          -1.0308e-03,  5.7612e-01],\n",
       "         [ 7.0557e-01,  9.3609e-01, -1.8118e-02,  ...,  2.5169e+00,\n",
       "           2.5996e+00,  9.4633e-01]],\n",
       "\n",
       "        ...,\n",
       "\n",
       "        [[-3.6027e-03,  3.3107e+00,  2.1432e+00,  ...,  1.2754e+00,\n",
       "           4.9739e-01,  2.0214e+00],\n",
       "         [ 1.8880e+00, -2.8303e-04,  2.4611e+00,  ...,  1.7597e-01,\n",
       "          -3.8944e-04,  6.5729e-01],\n",
       "         [-1.6632e-02, -1.0414e-02,  3.8585e+00,  ..., -6.6693e-03,\n",
       "          -8.9272e-03,  1.4585e+00],\n",
       "         ...,\n",
       "         [ 3.2840e+00, -1.3140e-02,  9.1095e-01,  ...,  2.9212e-01,\n",
       "           2.4108e+00,  6.8203e-01],\n",
       "         [ 1.5204e+00,  1.3541e-01,  2.8148e-01,  ..., -1.2315e-03,\n",
       "          -5.9171e-03, -2.7256e-03],\n",
       "         [ 9.1184e-01,  9.6973e-01, -2.5302e-04,  ...,  6.9095e-01,\n",
       "           6.9095e-01,  1.2782e+00]],\n",
       "\n",
       "        [[ 4.8995e-01,  1.2556e+00, -3.5849e-04,  ..., -2.0918e-03,\n",
       "          -3.0346e-03, -4.1068e-03],\n",
       "         [ 1.7796e+00,  2.8594e-01,  1.5239e+00,  ...,  3.0127e-01,\n",
       "          -1.3676e-04,  3.4226e-01],\n",
       "         [ 5.0423e-01,  1.1398e+00, -6.2489e-03,  ...,  3.0127e-01,\n",
       "          -1.3676e-04,  3.4226e-01],\n",
       "         ...,\n",
       "         [-1.1254e-02, -6.3818e-03,  1.8734e-01,  ...,  1.8090e+00,\n",
       "           1.2003e+00,  9.7572e-01],\n",
       "         [-2.7235e-03, -6.3818e-03, -6.1373e-03,  ...,  1.2397e+00,\n",
       "           1.2867e+00,  1.4361e+00],\n",
       "         [-5.3723e-03, -6.3818e-03, -5.8898e-05,  ...,  6.7724e-01,\n",
       "          -3.0934e-03, -3.1610e-03]],\n",
       "\n",
       "        [[ 6.6277e-01,  1.5792e+00, -1.5727e-03,  ..., -5.1583e-04,\n",
       "          -5.1583e-04,  1.5307e-01],\n",
       "         [-3.8437e-03, -2.6902e-03,  7.4497e-01,  ..., -6.0105e-03,\n",
       "          -6.0105e-03, -6.2213e-03],\n",
       "         [ 2.3150e-01, -1.3065e-02, -3.6650e-03,  ..., -6.6693e-03,\n",
       "          -6.6693e-03, -5.2427e-03],\n",
       "         ...,\n",
       "         [ 1.2941e+00,  8.0344e-02, -6.1068e-03,  ...,  2.1568e+00,\n",
       "           2.1568e+00,  1.8974e+00],\n",
       "         [-8.3735e-03, -6.8771e-03, -5.7916e-03,  ..., -6.6693e-03,\n",
       "          -6.6693e-03, -5.2427e-03],\n",
       "         [-6.0281e-03,  3.9450e-01,  3.3051e-01,  ..., -6.6693e-03,\n",
       "          -6.6693e-03, -5.2427e-03]]], device='cuda:8', grad_fn=<CatBackward0>)"
      ]
     },
     "execution_count": 15,
     "metadata": {},
     "output_type": "execute_result"
    }
   ],
   "source": [
    "observation = buffer.sample(10,10)['observation']\n",
    "torch.cat([encoder(observation[:,:,0,:,:]),encoder(observation[:,:,1,:,:]),encoder(observation[:,:,2,:,:]),encoder(observation[:,:,3,:,:])],-1)"
   ]
  },
  {
   "cell_type": "code",
   "execution_count": 21,
   "id": "7b2eceda",
   "metadata": {},
   "outputs": [
    {
     "data": {
      "text/plain": [
       "torch.Size([10, 10, 1024])"
      ]
     },
     "execution_count": 21,
     "metadata": {},
     "output_type": "execute_result"
    }
   ],
   "source": [
    "encoder(buffer.sample(10,10)['observation'][:,:,3,:,:]).shape"
   ]
  },
  {
   "cell_type": "code",
   "execution_count": 1,
   "id": "6f30634a",
   "metadata": {},
   "outputs": [
    {
     "name": "stderr",
     "output_type": "stream",
     "text": [
      "/usr/local/lib/python3.8/dist-packages/tqdm/auto.py:21: TqdmWarning: IProgress not found. Please update jupyter and ipywidgets. See https://ipywidgets.readthedocs.io/en/stable/user_install.html\n",
      "  from .autonotebook import tqdm as notebook_tqdm\n"
     ]
    }
   ],
   "source": [
    "config_file='config.yml'\n",
    "\n",
    "import importlib\n",
    "\n",
    "from dataset import EdgesDataset, get_seed_list\n",
    "from utils import load_config\n",
    "from torch.utils.data import DataLoader\n",
    "import torch\n",
    "import numpy as np\n",
    "\n",
    "from datetime import datetime\n",
    "from torch.utils.tensorboard import SummaryWriter\n",
    "\n",
    "config = load_config(config_file)"
   ]
  },
  {
   "cell_type": "code",
   "execution_count": 2,
   "id": "1ee4626b",
   "metadata": {},
   "outputs": [],
   "source": [
    "from d3rlpy.dataset import MDPDataset\n",
    "\n",
    "dataset = MDPDataset.load('MDPdataset_SMF_2023-03-24_13-47-05')"
   ]
  },
  {
   "cell_type": "code",
   "execution_count": 3,
   "id": "78fa16f0",
   "metadata": {},
   "outputs": [],
   "source": [
    "observation_shape = dataset.get_observation_shape()\n",
    "action_size =  dataset.get_action_size()"
   ]
  },
  {
   "cell_type": "code",
   "execution_count": 4,
   "id": "b16aff62",
   "metadata": {},
   "outputs": [],
   "source": [
    "from buffer import ReplayBuffer"
   ]
  },
  {
   "cell_type": "code",
   "execution_count": 5,
   "id": "7a77de2e",
   "metadata": {},
   "outputs": [],
   "source": [
    "buffer = ReplayBuffer(observation_shape, action_size, config)"
   ]
  },
  {
   "cell_type": "code",
   "execution_count": 6,
   "id": "ba06619c",
   "metadata": {},
   "outputs": [],
   "source": [
    "for episode in dataset.episodes:\n",
    "    for transition in episode.transitions:\n",
    "        buffer.add(transition.observation, transition.action, transition.reward, transition.next_observation, transition.terminal)"
   ]
  },
  {
   "cell_type": "code",
   "execution_count": 7,
   "id": "6954cef9",
   "metadata": {},
   "outputs": [
    {
     "data": {
      "text/plain": [
       "12770"
      ]
     },
     "execution_count": 7,
     "metadata": {},
     "output_type": "execute_result"
    }
   ],
   "source": [
    "buffer.buffer_index"
   ]
  },
  {
   "cell_type": "code",
   "execution_count": 22,
   "id": "ea61dbfd",
   "metadata": {},
   "outputs": [],
   "source": [
    "import encoder\n",
    "importlib.reload(encoder)\n",
    "from encoder import Encoder"
   ]
  },
  {
   "cell_type": "code",
   "execution_count": 23,
   "id": "0f56a901",
   "metadata": {},
   "outputs": [],
   "source": [
    "import decoder\n",
    "importlib.reload(decoder)\n",
    "from decoder import Decoder"
   ]
  },
  {
   "cell_type": "code",
   "execution_count": 24,
   "id": "192571fb",
   "metadata": {},
   "outputs": [],
   "source": [
    "import dreamer\n",
    "importlib.reload(dreamer)\n",
    "from dreamer import Dreamer"
   ]
  },
  {
   "cell_type": "code",
   "execution_count": 25,
   "id": "e664c764",
   "metadata": {},
   "outputs": [],
   "source": [
    "log_dir = (\n",
    "        \"runs/\"\n",
    "        + datetime.now().strftime(\"%Y-%m-%d_%H-%M-%S\")\n",
    "        + \"_\"\n",
    "        + config.operation.log_dir\n",
    "    )\n",
    "writer = SummaryWriter(log_dir)\n",
    "device = config.operation.device\n",
    "obs_shape = dataset.get_observation_shape()\n",
    "discrete_action_bool = False \n",
    "action_size = dataset.get_action_size()\n",
    "\n",
    "agent = Dreamer(\n",
    "            obs_shape, discrete_action_bool, action_size, writer, device, config, verbose=False\n",
    "        )"
   ]
  },
  {
   "cell_type": "code",
   "execution_count": null,
   "id": "9ba3bab7",
   "metadata": {},
   "outputs": [],
   "source": [
    "agent.train_offline(buffer)"
   ]
  },
  {
   "cell_type": "code",
   "execution_count": 45,
   "id": "227860dd",
   "metadata": {},
   "outputs": [
    {
     "name": "stdout",
     "output_type": "stream",
     "text": [
      "[[[[  0   0   0 ...   0   0   0]\n",
      "   [  0   0   0 ...   0   0   0]\n",
      "   [  0   0   0 ...   0   0   0]\n",
      "   ...\n",
      "   [  0   0   0 ...   0   0   0]\n",
      "   [  0   0   0 ...   0   0   0]\n",
      "   [  0   0   0 ...   0   0   0]]\n",
      "\n",
      "  [[  0   0   0 ...   0   0   0]\n",
      "   [  0   0   0 ...   0   0   0]\n",
      "   [  0   0   0 ...   0   0   0]\n",
      "   ...\n",
      "   [  0   0   0 ...   0   0   0]\n",
      "   [  0   0   0 ...   0   0   0]\n",
      "   [  0   0   0 ...   0   0   0]]\n",
      "\n",
      "  [[  0   0   0 ...   0   0   0]\n",
      "   [  0   0   0 ...   0   0   0]\n",
      "   [  0   0   0 ...   0   0   0]\n",
      "   ...\n",
      "   [  0   0   0 ...   0   0   0]\n",
      "   [  0   0   0 ...   0   0   0]\n",
      "   [  0   0   0 ...   0   0   0]]\n",
      "\n",
      "  [[  0   0   0 ...   0   0   0]\n",
      "   [  0   0   0 ...   0   0   0]\n",
      "   [  0   0   0 ...   0   0   0]\n",
      "   ...\n",
      "   [  0   0   0 ...   0   0   0]\n",
      "   [  0   0   0 ...   0   0   0]\n",
      "   [  0   0   0 ...   0   0   0]]]\n",
      "\n",
      "\n",
      " [[[  0   0   0 ...   0   0   0]\n",
      "   [  0   0   0 ...   0   0   0]\n",
      "   [  0   0   0 ...   0   0   0]\n",
      "   ...\n",
      "   [  0   0   0 ...   0   0   0]\n",
      "   [  0   0   0 ...   0   0   0]\n",
      "   [  0   0   0 ...   0   0   0]]\n",
      "\n",
      "  [[  0   0   0 ...   0   0   0]\n",
      "   [  0   0   0 ...   0   0   0]\n",
      "   [  0   0   0 ...   0   0   0]\n",
      "   ...\n",
      "   [  0   0   0 ...   0   0   0]\n",
      "   [  0   0   0 ...   0   0   0]\n",
      "   [  0   0   0 ...   0   0   0]]\n",
      "\n",
      "  [[  0   0   0 ...   0   0   0]\n",
      "   [  0   0   0 ...   0   0   0]\n",
      "   [  0   0   0 ...   0   0   0]\n",
      "   ...\n",
      "   [  0   0   0 ...   0   0   0]\n",
      "   [  0   0   0 ... 255 255 255]\n",
      "   [  0   0   0 ...   0   0   0]]\n",
      "\n",
      "  [[  0   0   0 ...   0   0   0]\n",
      "   [  0   0   0 ...   0   0   0]\n",
      "   [  0   0   0 ...   0   0   0]\n",
      "   ...\n",
      "   [  0   0   0 ...   0   0   0]\n",
      "   [  0   0   0 ... 255 255 255]\n",
      "   [  0   0   0 ...   0   0   0]]]\n",
      "\n",
      "\n",
      " [[[  0   0   0 ...   0   0   0]\n",
      "   [  0   0   0 ...   0   0   0]\n",
      "   [  0   0   0 ...   0   0   0]\n",
      "   ...\n",
      "   [  0   0   0 ...   0   0   0]\n",
      "   [  0   0   0 ...   0   0   0]\n",
      "   [  0   0   0 ...   0   0   0]]\n",
      "\n",
      "  [[  0   0   0 ...   0   0   0]\n",
      "   [  0   0   0 ...   0   0   0]\n",
      "   [  0   0   0 ...   0   0   0]\n",
      "   ...\n",
      "   [  0   0   0 ...   0   0   0]\n",
      "   [  0   0   0 ...   0   0   0]\n",
      "   [  0   0   0 ...   0   0   0]]\n",
      "\n",
      "  [[  0   0   0 ...   0   0   0]\n",
      "   [  0   0   0 ...   0   0   0]\n",
      "   [  0   0   0 ...   0   0   0]\n",
      "   ...\n",
      "   [  0   0   0 ...   0   0   0]\n",
      "   [  0   0   0 ... 255 255 255]\n",
      "   [  0   0   0 ...   0   0   0]]\n",
      "\n",
      "  [[  0   0   0 ...   0   0   0]\n",
      "   [  0   0   0 ...   0   0   0]\n",
      "   [  0   0   0 ...   0   0   0]\n",
      "   ...\n",
      "   [  0   0   0 ...   0   0   0]\n",
      "   [  0   0   0 ... 255 255 255]\n",
      "   [  0   0   0 ...   0   0   0]]]\n",
      "\n",
      "\n",
      " ...\n",
      "\n",
      "\n",
      " [[[  0   0   0 ...   0   0   0]\n",
      "   [  0   0   0 ...   0   0   0]\n",
      "   [  0   0   0 ...   0   0   0]\n",
      "   ...\n",
      "   [  0   0   0 ...   0   0   0]\n",
      "   [  0   0   0 ...   0   0   0]\n",
      "   [  0   0   0 ...   0   0   0]]\n",
      "\n",
      "  [[  0   0   0 ...   0   0   0]\n",
      "   [  0   0   0 ...   0   0   0]\n",
      "   [  0   0   0 ...   0   0   0]\n",
      "   ...\n",
      "   [  0   0   0 ...   0   0   0]\n",
      "   [  0   0   0 ...   0   0   0]\n",
      "   [  0   0   0 ...   0   0   0]]\n",
      "\n",
      "  [[  0   0   0 ...   0   0   0]\n",
      "   [  0   0   0 ...   0   0   0]\n",
      "   [  0   0   0 ...   0   0   0]\n",
      "   ...\n",
      "   [  0   0   0 ...   0   0   0]\n",
      "   [  0   0   0 ...   0   0   0]\n",
      "   [  0   0   0 ...   0   0   0]]\n",
      "\n",
      "  [[  0   0   0 ...   0   0   0]\n",
      "   [  0   0   0 ...   0   0   0]\n",
      "   [  0   0   0 ...   0   0   0]\n",
      "   ...\n",
      "   [  0   0   0 ...   0   0   0]\n",
      "   [  0   0   0 ...   0   0   0]\n",
      "   [  0   0   0 ...   0   0   0]]]\n",
      "\n",
      "\n",
      " [[[  0   0   0 ...   0   0   0]\n",
      "   [  0   0   0 ...   0   0   0]\n",
      "   [  0   0   0 ...   0   0   0]\n",
      "   ...\n",
      "   [  0   0   0 ...   0   0   0]\n",
      "   [  0   0   0 ...   0   0   0]\n",
      "   [  0   0   0 ...   0   0   0]]\n",
      "\n",
      "  [[  0   0   0 ...   0   0   0]\n",
      "   [  0   0   0 ...   0   0   0]\n",
      "   [  0   0   0 ...   0   0   0]\n",
      "   ...\n",
      "   [  0   0   0 ...   0   0   0]\n",
      "   [  0   0   0 ...   0   0   0]\n",
      "   [  0   0   0 ...   0   0   0]]\n",
      "\n",
      "  [[  0   0 255 ...   0   0   0]\n",
      "   [  0   0 255 ...   0   0   0]\n",
      "   [  0   0 255 ...   0   0   0]\n",
      "   ...\n",
      "   [255   0   0 ...   0   0   0]\n",
      "   [255 255 255 ... 255 255 255]\n",
      "   [  0   0   0 ...   0   0   0]]\n",
      "\n",
      "  [[  0   0 255 ...   0   0   0]\n",
      "   [  0   0 255 ...   0   0   0]\n",
      "   [  0   0 255 ...   0   0   0]\n",
      "   ...\n",
      "   [255   0   0 ...   0   0   0]\n",
      "   [255 255 255 ... 255 255 255]\n",
      "   [  0   0   0 ...   0   0   0]]]\n",
      "\n",
      "\n",
      " [[[  0   0   0 ...   0   0   0]\n",
      "   [  0   0   0 ...   0   0   0]\n",
      "   [  0   0   0 ...   0   0   0]\n",
      "   ...\n",
      "   [  0   0   0 ...   0   0   0]\n",
      "   [  0   0   0 ...   0   0   0]\n",
      "   [  0   0   0 ...   0   0   0]]\n",
      "\n",
      "  [[  0   0   0 ...   0   0   0]\n",
      "   [  0   0   0 ...   0   0   0]\n",
      "   [  0   0   0 ...   0   0   0]\n",
      "   ...\n",
      "   [  0   0   0 ...   0   0   0]\n",
      "   [  0   0   0 ...   0   0   0]\n",
      "   [  0   0   0 ...   0   0   0]]\n",
      "\n",
      "  [[  0   0 255 ...   0   0   0]\n",
      "   [  0   0 255 ...   0   0   0]\n",
      "   [  0   0 255 ...   0   0   0]\n",
      "   ...\n",
      "   [255   0   0 ... 255 255 255]\n",
      "   [  0 255   0 ...   0   0   0]\n",
      "   [255   0   0 ...   0   0   0]]\n",
      "\n",
      "  [[  0   0 255 ...   0   0   0]\n",
      "   [  0   0 255 ...   0   0   0]\n",
      "   [  0   0 255 ...   0   0   0]\n",
      "   ...\n",
      "   [255   0   0 ... 255 255 255]\n",
      "   [  0 255   0 ...   0   0   0]\n",
      "   [255   0   0 ...   0   0   0]]]]\n"
     ]
    }
   ],
   "source": [
    "print(dataset.observations[:10])"
   ]
  },
  {
   "cell_type": "code",
   "execution_count": 54,
   "id": "b3fe3df3",
   "metadata": {},
   "outputs": [
    {
     "data": {
      "text/plain": [
       "torch.Size([10, 4, 1024])"
      ]
     },
     "execution_count": 54,
     "metadata": {},
     "output_type": "execute_result"
    }
   ],
   "source": [
    "import encoder\n",
    "importlib.reload(encoder)\n",
    "from encoder import Encoder\n",
    "encoder = Encoder(config)\n",
    "encoder(torch.Tensor(dataset.observations[:10])).shape"
   ]
  },
  {
   "cell_type": "code",
   "execution_count": 14,
   "id": "c029b8d4",
   "metadata": {},
   "outputs": [],
   "source": [
    "decoder_debug = Decoder(observation_shape, config).to(device)"
   ]
  },
  {
   "cell_type": "code",
   "execution_count": 15,
   "id": "46460592",
   "metadata": {},
   "outputs": [
    {
     "data": {
      "text/plain": [
       "(torch.Size([35, 44, 70]), torch.Size([35, 44, 200]))"
      ]
     },
     "execution_count": 15,
     "metadata": {},
     "output_type": "execute_result"
    }
   ],
   "source": [
    "agent.posteriors_debug.shape, agent.determenistics_debug.shape"
   ]
  },
  {
   "cell_type": "code",
   "execution_count": 16,
   "id": "c37f38d8",
   "metadata": {},
   "outputs": [],
   "source": [
    "from utils import pixel_normalization"
   ]
  },
  {
   "cell_type": "code",
   "execution_count": 17,
   "id": "25207524",
   "metadata": {},
   "outputs": [
    {
     "data": {
      "text/plain": [
       "torch.Size([35, 44, 64, 64])"
      ]
     },
     "execution_count": 17,
     "metadata": {},
     "output_type": "execute_result"
    }
   ],
   "source": [
    "sample = buffer.sample(\n",
    "                    35, 44\n",
    "                )['observation'][:,:,0]\n",
    "sample.shape"
   ]
  },
  {
   "cell_type": "code",
   "execution_count": 21,
   "id": "a36b39ce",
   "metadata": {},
   "outputs": [
    {
     "data": {
      "text/plain": [
       "tensor(-46.9651, device='cuda:7', grad_fn=<MeanBackward0>)"
      ]
     },
     "execution_count": 21,
     "metadata": {},
     "output_type": "execute_result"
    }
   ],
   "source": [
    "(decoder_debug(agent.posteriors_debug, agent.determenistics_debug).log_prob(pixel_normalization(torch.Tensor(sample)))/64/64).mean()"
   ]
  },
  {
   "cell_type": "code",
   "execution_count": null,
   "id": "286e02bb",
   "metadata": {},
   "outputs": [],
   "source": []
  }
 ],
 "metadata": {
  "kernelspec": {
   "display_name": "Python 3 (ipykernel)",
   "language": "python",
   "name": "python3"
  },
  "language_info": {
   "codemirror_mode": {
    "name": "ipython",
    "version": 3
   },
   "file_extension": ".py",
   "mimetype": "text/x-python",
   "name": "python",
   "nbconvert_exporter": "python",
   "pygments_lexer": "ipython3",
   "version": "3.8.10"
  }
 },
 "nbformat": 4,
 "nbformat_minor": 5
}
